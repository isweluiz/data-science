{
 "cells": [
  {
   "cell_type": "code",
   "execution_count": 136,
   "metadata": {},
   "outputs": [],
   "source": [
    "import pandas as pd\n",
    "import numpy as np \n",
    "import matplotlib.pyplot as plt\n",
    "from datetime import datetime\n",
    "import seaborn as sns \n",
    "import random "
   ]
  },
  {
   "cell_type": "code",
   "execution_count": 157,
   "metadata": {},
   "outputs": [],
   "source": [
    "nome_lista = ['Luiz' , 'Zé' , 'João Melão', 'Eduardo' , 'Maria Jose' , 'Vanessa']\n",
    "\n",
    "dados = pd.DataFrame({'Coluna 1': np.random.random_sample(50) , \n",
    "                     'Coluna 2': np.random.randint(50),\n",
    "                     'Coluna 3': np.random.randn(50),\n",
    "                     'Coluna 4': np.random.rand(50),\n",
    "                     'Escolhido': np.random.choice(nome_lista,50)})"
   ]
  },
  {
   "cell_type": "code",
   "execution_count": 158,
   "metadata": {},
   "outputs": [],
   "source": [
    "#Criando a coluna ano de modo não aleatório \n",
    "dados['Ano'] = 2018"
   ]
  },
  {
   "cell_type": "code",
   "execution_count": 159,
   "metadata": {},
   "outputs": [
    {
     "data": {
      "text/html": [
       "<div>\n",
       "<style scoped>\n",
       "    .dataframe tbody tr th:only-of-type {\n",
       "        vertical-align: middle;\n",
       "    }\n",
       "\n",
       "    .dataframe tbody tr th {\n",
       "        vertical-align: top;\n",
       "    }\n",
       "\n",
       "    .dataframe thead th {\n",
       "        text-align: right;\n",
       "    }\n",
       "</style>\n",
       "<table border=\"1\" class=\"dataframe\">\n",
       "  <thead>\n",
       "    <tr style=\"text-align: right;\">\n",
       "      <th></th>\n",
       "      <th>Coluna 1</th>\n",
       "      <th>Coluna 2</th>\n",
       "      <th>Coluna 3</th>\n",
       "      <th>Coluna 4</th>\n",
       "      <th>Escolhido</th>\n",
       "    </tr>\n",
       "    <tr>\n",
       "      <th>Ano</th>\n",
       "      <th></th>\n",
       "      <th></th>\n",
       "      <th></th>\n",
       "      <th></th>\n",
       "      <th></th>\n",
       "    </tr>\n",
       "  </thead>\n",
       "  <tbody>\n",
       "    <tr>\n",
       "      <th>2018</th>\n",
       "      <td>0.850866</td>\n",
       "      <td>9</td>\n",
       "      <td>-0.608010</td>\n",
       "      <td>0.783435</td>\n",
       "      <td>Maria Jose</td>\n",
       "    </tr>\n",
       "    <tr>\n",
       "      <th>2018</th>\n",
       "      <td>0.584693</td>\n",
       "      <td>9</td>\n",
       "      <td>1.327169</td>\n",
       "      <td>0.013730</td>\n",
       "      <td>Maria Jose</td>\n",
       "    </tr>\n",
       "    <tr>\n",
       "      <th>2018</th>\n",
       "      <td>0.283182</td>\n",
       "      <td>9</td>\n",
       "      <td>1.176204</td>\n",
       "      <td>0.769360</td>\n",
       "      <td>Vanessa</td>\n",
       "    </tr>\n",
       "    <tr>\n",
       "      <th>2018</th>\n",
       "      <td>0.372648</td>\n",
       "      <td>9</td>\n",
       "      <td>-0.295688</td>\n",
       "      <td>0.640789</td>\n",
       "      <td>Maria Jose</td>\n",
       "    </tr>\n",
       "    <tr>\n",
       "      <th>2018</th>\n",
       "      <td>0.727585</td>\n",
       "      <td>9</td>\n",
       "      <td>0.681454</td>\n",
       "      <td>0.227811</td>\n",
       "      <td>Eduardo</td>\n",
       "    </tr>\n",
       "  </tbody>\n",
       "</table>\n",
       "</div>"
      ],
      "text/plain": [
       "      Coluna 1  Coluna 2  Coluna 3  Coluna 4   Escolhido\n",
       "Ano                                                     \n",
       "2018  0.850866         9 -0.608010  0.783435  Maria Jose\n",
       "2018  0.584693         9  1.327169  0.013730  Maria Jose\n",
       "2018  0.283182         9  1.176204  0.769360     Vanessa\n",
       "2018  0.372648         9 -0.295688  0.640789  Maria Jose\n",
       "2018  0.727585         9  0.681454  0.227811     Eduardo"
      ]
     },
     "execution_count": 159,
     "metadata": {},
     "output_type": "execute_result"
    }
   ],
   "source": [
    "#Setando a coluna ano como indexador\n",
    "dados.set_index('Ano').head()"
   ]
  },
  {
   "cell_type": "code",
   "execution_count": 160,
   "metadata": {},
   "outputs": [
    {
     "data": {
      "text/plain": [
       "Index(['Coluna 1', 'Coluna 2', 'Coluna 3', 'Coluna 4', 'Escolhido'], dtype='object')"
      ]
     },
     "execution_count": 160,
     "metadata": {},
     "output_type": "execute_result"
    }
   ],
   "source": [
    "#Removendo a coluna Ano\n",
    "dados.columns.drop('Ano')"
   ]
  },
  {
   "cell_type": "code",
   "execution_count": 161,
   "metadata": {},
   "outputs": [],
   "source": [
    "#Criando a coluna ano de modo aleatório \n",
    "ano = ['2015', '2016', '2017', '2018']\n",
    "dados['Ano'] = np.random.choice(ano,50)"
   ]
  },
  {
   "cell_type": "code",
   "execution_count": 162,
   "metadata": {},
   "outputs": [],
   "source": [
    "#criando a coluna mes\n",
    "mes = ['Janeiro', 'Fevereiro', 'Maio', 'Abril', 'Março', 'Junho',\n",
    "        'Julho', 'Agosto', 'Setembro', 'Outubro', 'Novembro', 'Dezembro'] \n",
    "dados['Mês'] = np.random.choice(mes,50)"
   ]
  },
  {
   "cell_type": "code",
   "execution_count": 163,
   "metadata": {},
   "outputs": [],
   "source": [
    "#Criando coluna com a data especifica \n",
    "data = (['21-05-2018', '21-05-2016' ,'21-04-2016' , '22-07-2018' , '8-03-2015' , '1-03-2017' , '2-5-2016',\n",
    "       '11-03-2018', '2-04-2015' ,'7-05-2016' , '8-09-2015' , '13-3-2018' , '1-05-2017' , '2-7-2016'])\n",
    "dados['Data'] = np.random.choice(data,50)"
   ]
  },
  {
   "cell_type": "code",
   "execution_count": 176,
   "metadata": {},
   "outputs": [
    {
     "data": {
      "text/html": [
       "<div>\n",
       "<style scoped>\n",
       "    .dataframe tbody tr th:only-of-type {\n",
       "        vertical-align: middle;\n",
       "    }\n",
       "\n",
       "    .dataframe tbody tr th {\n",
       "        vertical-align: top;\n",
       "    }\n",
       "\n",
       "    .dataframe thead th {\n",
       "        text-align: right;\n",
       "    }\n",
       "</style>\n",
       "<table border=\"1\" class=\"dataframe\">\n",
       "  <thead>\n",
       "    <tr style=\"text-align: right;\">\n",
       "      <th></th>\n",
       "      <th>Coluna 1</th>\n",
       "      <th>Coluna 2</th>\n",
       "      <th>Coluna 3</th>\n",
       "      <th>Coluna 4</th>\n",
       "      <th>Escolhido</th>\n",
       "      <th>Mês</th>\n",
       "      <th>Ano</th>\n",
       "      <th>Dia</th>\n",
       "    </tr>\n",
       "  </thead>\n",
       "  <tbody>\n",
       "    <tr>\n",
       "      <th>0</th>\n",
       "      <td>0.850866</td>\n",
       "      <td>9</td>\n",
       "      <td>-0.608010</td>\n",
       "      <td>0.783435</td>\n",
       "      <td>Maria Jose</td>\n",
       "      <td>9</td>\n",
       "      <td>2017</td>\n",
       "      <td>19</td>\n",
       "    </tr>\n",
       "    <tr>\n",
       "      <th>1</th>\n",
       "      <td>0.584693</td>\n",
       "      <td>9</td>\n",
       "      <td>1.327169</td>\n",
       "      <td>0.013730</td>\n",
       "      <td>Maria Jose</td>\n",
       "      <td>10</td>\n",
       "      <td>2015</td>\n",
       "      <td>29</td>\n",
       "    </tr>\n",
       "    <tr>\n",
       "      <th>2</th>\n",
       "      <td>0.283182</td>\n",
       "      <td>9</td>\n",
       "      <td>1.176204</td>\n",
       "      <td>0.769360</td>\n",
       "      <td>Vanessa</td>\n",
       "      <td>6</td>\n",
       "      <td>2017</td>\n",
       "      <td>21</td>\n",
       "    </tr>\n",
       "    <tr>\n",
       "      <th>3</th>\n",
       "      <td>0.372648</td>\n",
       "      <td>9</td>\n",
       "      <td>-0.295688</td>\n",
       "      <td>0.640789</td>\n",
       "      <td>Maria Jose</td>\n",
       "      <td>6</td>\n",
       "      <td>2017</td>\n",
       "      <td>24</td>\n",
       "    </tr>\n",
       "    <tr>\n",
       "      <th>4</th>\n",
       "      <td>0.727585</td>\n",
       "      <td>9</td>\n",
       "      <td>0.681454</td>\n",
       "      <td>0.227811</td>\n",
       "      <td>Eduardo</td>\n",
       "      <td>11</td>\n",
       "      <td>2017</td>\n",
       "      <td>20</td>\n",
       "    </tr>\n",
       "    <tr>\n",
       "      <th>5</th>\n",
       "      <td>0.836782</td>\n",
       "      <td>9</td>\n",
       "      <td>-0.268974</td>\n",
       "      <td>0.067763</td>\n",
       "      <td>Eduardo</td>\n",
       "      <td>8</td>\n",
       "      <td>2016</td>\n",
       "      <td>14</td>\n",
       "    </tr>\n",
       "    <tr>\n",
       "      <th>6</th>\n",
       "      <td>0.553165</td>\n",
       "      <td>9</td>\n",
       "      <td>0.175069</td>\n",
       "      <td>0.602440</td>\n",
       "      <td>Vanessa</td>\n",
       "      <td>3</td>\n",
       "      <td>2016</td>\n",
       "      <td>2</td>\n",
       "    </tr>\n",
       "    <tr>\n",
       "      <th>7</th>\n",
       "      <td>0.712521</td>\n",
       "      <td>9</td>\n",
       "      <td>-0.633030</td>\n",
       "      <td>0.843643</td>\n",
       "      <td>Vanessa</td>\n",
       "      <td>1</td>\n",
       "      <td>2015</td>\n",
       "      <td>13</td>\n",
       "    </tr>\n",
       "    <tr>\n",
       "      <th>8</th>\n",
       "      <td>0.194926</td>\n",
       "      <td>9</td>\n",
       "      <td>-0.766166</td>\n",
       "      <td>0.886930</td>\n",
       "      <td>Vanessa</td>\n",
       "      <td>2</td>\n",
       "      <td>2018</td>\n",
       "      <td>13</td>\n",
       "    </tr>\n",
       "    <tr>\n",
       "      <th>9</th>\n",
       "      <td>0.748323</td>\n",
       "      <td>9</td>\n",
       "      <td>-1.763233</td>\n",
       "      <td>0.659920</td>\n",
       "      <td>Eduardo</td>\n",
       "      <td>3</td>\n",
       "      <td>2016</td>\n",
       "      <td>21</td>\n",
       "    </tr>\n",
       "  </tbody>\n",
       "</table>\n",
       "</div>"
      ],
      "text/plain": [
       "   Coluna 1  Coluna 2  Coluna 3  Coluna 4   Escolhido  Mês   Ano  Dia\n",
       "0  0.850866         9 -0.608010  0.783435  Maria Jose    9  2017   19\n",
       "1  0.584693         9  1.327169  0.013730  Maria Jose   10  2015   29\n",
       "2  0.283182         9  1.176204  0.769360     Vanessa    6  2017   21\n",
       "3  0.372648         9 -0.295688  0.640789  Maria Jose    6  2017   24\n",
       "4  0.727585         9  0.681454  0.227811     Eduardo   11  2017   20\n",
       "5  0.836782         9 -0.268974  0.067763     Eduardo    8  2016   14\n",
       "6  0.553165         9  0.175069  0.602440     Vanessa    3  2016    2\n",
       "7  0.712521         9 -0.633030  0.843643     Vanessa    1  2015   13\n",
       "8  0.194926         9 -0.766166  0.886930     Vanessa    2  2018   13\n",
       "9  0.748323         9 -1.763233  0.659920     Eduardo    3  2016   21"
      ]
     },
     "execution_count": 176,
     "metadata": {},
     "output_type": "execute_result"
    }
   ],
   "source": [
    "#Exibindo nosso dataframe construído \n",
    "dados.head(10)"
   ]
  },
  {
   "cell_type": "markdown",
   "metadata": {},
   "source": [
    "## E se quisermos gerar as datas de maneira aleatória como seria? \n",
    "## Let´s gooo "
   ]
  },
  {
   "cell_type": "code",
   "execution_count": 165,
   "metadata": {},
   "outputs": [],
   "source": [
    "ano = np.random.randint(2015,2019, 50)\n",
    "mes = np.random.randint(1,13 , 50)\n",
    "dia = np.random.randint(1, 30 , 50)"
   ]
  },
  {
   "cell_type": "code",
   "execution_count": 166,
   "metadata": {},
   "outputs": [
    {
     "data": {
      "text/plain": [
       "array([2017, 2015, 2017, 2017, 2017, 2016, 2016, 2015, 2018, 2016, 2015,\n",
       "       2016, 2018, 2015, 2018, 2017, 2015, 2017, 2016, 2016, 2016, 2018,\n",
       "       2015, 2017, 2018, 2015, 2015, 2017, 2017, 2016, 2017, 2017, 2016,\n",
       "       2018, 2017, 2017, 2018, 2015, 2016, 2015, 2018, 2016, 2015, 2017,\n",
       "       2015, 2017, 2016, 2016, 2017, 2018])"
      ]
     },
     "execution_count": 166,
     "metadata": {},
     "output_type": "execute_result"
    }
   ],
   "source": [
    "ano "
   ]
  },
  {
   "cell_type": "code",
   "execution_count": 167,
   "metadata": {},
   "outputs": [
    {
     "data": {
      "text/plain": [
       "array([ 9, 10,  6,  6, 11,  8,  3,  1,  2,  3,  9,  8,  9,  4,  4, 12,  6,\n",
       "        9,  4,  1,  1,  2,  4,  2,  4,  6,  6,  1,  9,  9,  4,  3,  3,  6,\n",
       "        9,  9,  8,  5,  6,  7,  5,  3,  1,  8,  2, 10,  3,  4,  3,  7])"
      ]
     },
     "execution_count": 167,
     "metadata": {},
     "output_type": "execute_result"
    }
   ],
   "source": [
    "mes"
   ]
  },
  {
   "cell_type": "code",
   "execution_count": 168,
   "metadata": {},
   "outputs": [
    {
     "data": {
      "text/plain": [
       "array([19, 29, 21, 24, 20, 14,  2, 13, 13, 21, 15, 22, 25, 12, 13, 27, 21,\n",
       "       27, 26,  8, 12, 13, 22, 21, 26, 15, 16,  4, 12, 16, 11,  8, 17, 28,\n",
       "       10, 29, 19, 13, 17,  4,  7,  6, 22,  9,  9, 20, 23, 27, 13,  4])"
      ]
     },
     "execution_count": 168,
     "metadata": {},
     "output_type": "execute_result"
    }
   ],
   "source": [
    "dia"
   ]
  },
  {
   "cell_type": "markdown",
   "metadata": {},
   "source": [
    "## Agora que temos nossas listas de datas criadas, vamos remover a colunas criadas anteriormente e preencher com a criadas acima \n",
    "## Let's go "
   ]
  },
  {
   "cell_type": "code",
   "execution_count": 169,
   "metadata": {},
   "outputs": [
    {
     "data": {
      "text/plain": [
       "Index(['Coluna 1', 'Coluna 2', 'Coluna 3', 'Coluna 4', 'Escolhido', 'Ano',\n",
       "       'Mês', 'Data'],\n",
       "      dtype='object')"
      ]
     },
     "execution_count": 169,
     "metadata": {},
     "output_type": "execute_result"
    }
   ],
   "source": [
    "dados.columns"
   ]
  },
  {
   "cell_type": "code",
   "execution_count": 170,
   "metadata": {},
   "outputs": [],
   "source": [
    "dados = dados.drop(columns=['Mês', 'Data', 'Ano'])"
   ]
  },
  {
   "cell_type": "code",
   "execution_count": 171,
   "metadata": {},
   "outputs": [
    {
     "data": {
      "text/plain": [
       "['Coluna 1', 'Coluna 2', 'Coluna 3', 'Coluna 4', 'Escolhido']"
      ]
     },
     "execution_count": 171,
     "metadata": {},
     "output_type": "execute_result"
    }
   ],
   "source": [
    "list(dados)"
   ]
  },
  {
   "cell_type": "code",
   "execution_count": 172,
   "metadata": {},
   "outputs": [],
   "source": [
    "dados['Mês'] = mes\n",
    "dados['Ano'] = ano\n",
    "dados['Dia'] = dia"
   ]
  },
  {
   "cell_type": "code",
   "execution_count": 175,
   "metadata": {},
   "outputs": [
    {
     "data": {
      "text/html": [
       "<div>\n",
       "<style scoped>\n",
       "    .dataframe tbody tr th:only-of-type {\n",
       "        vertical-align: middle;\n",
       "    }\n",
       "\n",
       "    .dataframe tbody tr th {\n",
       "        vertical-align: top;\n",
       "    }\n",
       "\n",
       "    .dataframe thead th {\n",
       "        text-align: right;\n",
       "    }\n",
       "</style>\n",
       "<table border=\"1\" class=\"dataframe\">\n",
       "  <thead>\n",
       "    <tr style=\"text-align: right;\">\n",
       "      <th></th>\n",
       "      <th>Coluna 1</th>\n",
       "      <th>Coluna 2</th>\n",
       "      <th>Coluna 3</th>\n",
       "      <th>Coluna 4</th>\n",
       "      <th>Escolhido</th>\n",
       "      <th>Mês</th>\n",
       "      <th>Ano</th>\n",
       "      <th>Dia</th>\n",
       "    </tr>\n",
       "  </thead>\n",
       "  <tbody>\n",
       "    <tr>\n",
       "      <th>0</th>\n",
       "      <td>0.850866</td>\n",
       "      <td>9</td>\n",
       "      <td>-0.608010</td>\n",
       "      <td>0.783435</td>\n",
       "      <td>Maria Jose</td>\n",
       "      <td>9</td>\n",
       "      <td>2017</td>\n",
       "      <td>19</td>\n",
       "    </tr>\n",
       "    <tr>\n",
       "      <th>1</th>\n",
       "      <td>0.584693</td>\n",
       "      <td>9</td>\n",
       "      <td>1.327169</td>\n",
       "      <td>0.013730</td>\n",
       "      <td>Maria Jose</td>\n",
       "      <td>10</td>\n",
       "      <td>2015</td>\n",
       "      <td>29</td>\n",
       "    </tr>\n",
       "    <tr>\n",
       "      <th>2</th>\n",
       "      <td>0.283182</td>\n",
       "      <td>9</td>\n",
       "      <td>1.176204</td>\n",
       "      <td>0.769360</td>\n",
       "      <td>Vanessa</td>\n",
       "      <td>6</td>\n",
       "      <td>2017</td>\n",
       "      <td>21</td>\n",
       "    </tr>\n",
       "    <tr>\n",
       "      <th>3</th>\n",
       "      <td>0.372648</td>\n",
       "      <td>9</td>\n",
       "      <td>-0.295688</td>\n",
       "      <td>0.640789</td>\n",
       "      <td>Maria Jose</td>\n",
       "      <td>6</td>\n",
       "      <td>2017</td>\n",
       "      <td>24</td>\n",
       "    </tr>\n",
       "    <tr>\n",
       "      <th>4</th>\n",
       "      <td>0.727585</td>\n",
       "      <td>9</td>\n",
       "      <td>0.681454</td>\n",
       "      <td>0.227811</td>\n",
       "      <td>Eduardo</td>\n",
       "      <td>11</td>\n",
       "      <td>2017</td>\n",
       "      <td>20</td>\n",
       "    </tr>\n",
       "    <tr>\n",
       "      <th>5</th>\n",
       "      <td>0.836782</td>\n",
       "      <td>9</td>\n",
       "      <td>-0.268974</td>\n",
       "      <td>0.067763</td>\n",
       "      <td>Eduardo</td>\n",
       "      <td>8</td>\n",
       "      <td>2016</td>\n",
       "      <td>14</td>\n",
       "    </tr>\n",
       "    <tr>\n",
       "      <th>6</th>\n",
       "      <td>0.553165</td>\n",
       "      <td>9</td>\n",
       "      <td>0.175069</td>\n",
       "      <td>0.602440</td>\n",
       "      <td>Vanessa</td>\n",
       "      <td>3</td>\n",
       "      <td>2016</td>\n",
       "      <td>2</td>\n",
       "    </tr>\n",
       "    <tr>\n",
       "      <th>7</th>\n",
       "      <td>0.712521</td>\n",
       "      <td>9</td>\n",
       "      <td>-0.633030</td>\n",
       "      <td>0.843643</td>\n",
       "      <td>Vanessa</td>\n",
       "      <td>1</td>\n",
       "      <td>2015</td>\n",
       "      <td>13</td>\n",
       "    </tr>\n",
       "    <tr>\n",
       "      <th>8</th>\n",
       "      <td>0.194926</td>\n",
       "      <td>9</td>\n",
       "      <td>-0.766166</td>\n",
       "      <td>0.886930</td>\n",
       "      <td>Vanessa</td>\n",
       "      <td>2</td>\n",
       "      <td>2018</td>\n",
       "      <td>13</td>\n",
       "    </tr>\n",
       "    <tr>\n",
       "      <th>9</th>\n",
       "      <td>0.748323</td>\n",
       "      <td>9</td>\n",
       "      <td>-1.763233</td>\n",
       "      <td>0.659920</td>\n",
       "      <td>Eduardo</td>\n",
       "      <td>3</td>\n",
       "      <td>2016</td>\n",
       "      <td>21</td>\n",
       "    </tr>\n",
       "  </tbody>\n",
       "</table>\n",
       "</div>"
      ],
      "text/plain": [
       "   Coluna 1  Coluna 2  Coluna 3  Coluna 4   Escolhido  Mês   Ano  Dia\n",
       "0  0.850866         9 -0.608010  0.783435  Maria Jose    9  2017   19\n",
       "1  0.584693         9  1.327169  0.013730  Maria Jose   10  2015   29\n",
       "2  0.283182         9  1.176204  0.769360     Vanessa    6  2017   21\n",
       "3  0.372648         9 -0.295688  0.640789  Maria Jose    6  2017   24\n",
       "4  0.727585         9  0.681454  0.227811     Eduardo   11  2017   20\n",
       "5  0.836782         9 -0.268974  0.067763     Eduardo    8  2016   14\n",
       "6  0.553165         9  0.175069  0.602440     Vanessa    3  2016    2\n",
       "7  0.712521         9 -0.633030  0.843643     Vanessa    1  2015   13\n",
       "8  0.194926         9 -0.766166  0.886930     Vanessa    2  2018   13\n",
       "9  0.748323         9 -1.763233  0.659920     Eduardo    3  2016   21"
      ]
     },
     "execution_count": 175,
     "metadata": {},
     "output_type": "execute_result"
    }
   ],
   "source": [
    "dados.head(10)"
   ]
  },
  {
   "cell_type": "code",
   "execution_count": 205,
   "metadata": {},
   "outputs": [],
   "source": [
    "x = dados['Coluna 1']\n",
    "y = dados['Ano']"
   ]
  },
  {
   "cell_type": "code",
   "execution_count": 237,
   "metadata": {},
   "outputs": [
    {
     "data": {
      "image/png": "[encoded data removed]",
      "text/plain": [
       "<matplotlib.figure.Figure at 0x134732c7f98>"
      ]
     },
     "metadata": {},
     "output_type": "display_data"
    }
   ],
   "source": [
    "colors = ['green', 'red', 'blue', 'yellow']\n",
    "plt.figure(figsize=(10,10))\n",
    "plt.scatter(y,x, marker='o' , s=200, alpha=0.5, color=colors)\n",
    "\n",
    "plt.xlabel(\"Ano\")\n",
    "plt.ylabel(\"Valores \\n Coluna 1\")\n",
    "plt.title(\"Distribuição de valores por ano\\n\")\n",
    "plt.show()"
   ]
  },
  {
   "cell_type": "code",
   "execution_count": 256,
   "metadata": {},
   "outputs": [
    {
     "data": {
      "image/png": "[encoded data removed]",
      "text/plain": [
       "<matplotlib.figure.Figure at 0x1346f917c18>"
      ]
     },
     "metadata": {},
     "output_type": "display_data"
    }
   ],
   "source": [
    "plt.hist('Escolhido', data=dados, density=10, bins=20,color='green', alpha=0.5)\n",
    "plt.xticks(rotation=45)\n",
    "plt.xlabel('Nome')\n",
    "plt.ylabel(\"Count\")\n",
    "plt.title('Frequência do nome escolhido \\n ')\n",
    "plt.grid(False)\n",
    "plt.show()"
   ]
  },
  {
   "cell_type": "code",
   "execution_count": null,
   "metadata": {},
   "outputs": [],
   "source": []
  }
 ],
 "metadata": {
  "kernelspec": {
   "display_name": "Python 3",
   "language": "python",
   "name": "python3"
  },
  "language_info": {
   "codemirror_mode": {
    "name": "ipython",
    "version": 3
   },
   "file_extension": ".py",
   "mimetype": "text/x-python",
   "name": "python",
   "nbconvert_exporter": "python",
   "pygments_lexer": "ipython3",
   "version": "3.6.4"
  }
 },
 "nbformat": 4,
 "nbformat_minor": 2
}
