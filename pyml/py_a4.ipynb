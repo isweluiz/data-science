{
  "cells": [
    {
      "metadata": {
        "_uuid": "b8d94bb140de078bf5dc868f7ae1e46273b1ef7f"
      },
      "cell_type": "markdown",
      "source": "**> * Data Fields**\n* datetime - hourly date + timestamp  \n* season -  1 = spring, 2 = summer, 3 = fall, 4 = winter \n* holiday - whether the day is considered a holiday\n* workingday - whether the day is neither a weekend nor holiday\n* weather - 1: Clear, Few clouds, Partly cloudy, Partly cloudy \n* 2: Mist + Cloudy, Mist + Broken clouds, Mist + Few clouds, Mist \n* 3: Light Snow, Light Rain + Thunderstorm + Scattered clouds, Light Rain + Scattered clouds \n* 4: Heavy Rain + Ice Pallets + Thunderstorm + Mist, Snow + Fog \n* temp - temperature in Celsius\n* atemp - \"feels like\" temperature in Celsius\n* humidity - relative humidity\n* windspeed - wind speed\n* casual - number of non-registered user rentals initiated\n* registered - number of registered user rentals initiated\n* count - number of total rentals"
    },
    {
      "metadata": {
        "_cell_guid": "79c7e3d0-c299-4dcb-8224-4455121ee9b0",
        "_uuid": "d629ff2d2480ee46fbb7e2d37f6b5fab8052498a",
        "trusted": true
      },
      "cell_type": "code",
      "source": "import pandas as pd\nimport numpy as np\nimport seaborn as sns\nimport os \nimport matplotlib.pyplot as plt\nimport math\nfrom sklearn.tree import DecisionTreeClassifier",
      "execution_count": 39,
      "outputs": []
    },
    {
      "metadata": {
        "trusted": true,
        "_uuid": "bb3791ec390477f3704f8d4b67c56c9abe528f5c"
      },
      "cell_type": "code",
      "source": "",
      "execution_count": null,
      "outputs": []
    },
    {
      "metadata": {
        "trusted": true,
        "_uuid": "4ffecc8212a6ca05b0e0ea9a31549e2c96d8f94a"
      },
      "cell_type": "code",
      "source": "os.listdir('../input')\ntrain = pd.read_csv('../input/train.csv')\ntest = pd.read_csv('../input/test.csv')\n#count - number of total rentals\n\n",
      "execution_count": 18,
      "outputs": []
    },
    {
      "metadata": {
        "trusted": true,
        "_uuid": "fc6209bbc55c16ee80600a2eb9bc8fb3500df8e6"
      },
      "cell_type": "code",
      "source": "train['count'].head(12)",
      "execution_count": 15,
      "outputs": [
        {
          "output_type": "execute_result",
          "execution_count": 15,
          "data": {
            "text/plain": "0     16\n1     40\n2     32\n3     13\n4      1\n5      1\n6      2\n7      3\n8      8\n9     14\n10    36\n11    56\nName: count, dtype: int64"
          },
          "metadata": {}
        }
      ]
    },
    {
      "metadata": {
        "trusted": true,
        "_uuid": "16e9e702c8347c38278f53b18abc440cb04a65e5"
      },
      "cell_type": "code",
      "source": "#Aplicando o log a coluna count\ntrain['count'] = np.log(train['count'])",
      "execution_count": 16,
      "outputs": []
    },
    {
      "metadata": {
        "trusted": true,
        "_uuid": "3988cc56e4913a8b9fadf4bbcdb5c0388eccb276"
      },
      "cell_type": "code",
      "source": "train['count'].head()",
      "execution_count": 17,
      "outputs": [
        {
          "output_type": "execute_result",
          "execution_count": 17,
          "data": {
            "text/plain": "0    2.772589\n1    3.688879\n2    3.465736\n3    2.564949\n4    0.000000\nName: count, dtype: float64"
          },
          "metadata": {}
        }
      ]
    },
    {
      "metadata": {
        "trusted": true,
        "_uuid": "44df73eab03ae0e21ec7b3a66fd5679f9024ad72"
      },
      "cell_type": "code",
      "source": "math.log(10) - math.log(11)",
      "execution_count": 20,
      "outputs": [
        {
          "output_type": "execute_result",
          "execution_count": 20,
          "data": {
            "text/plain": "-0.09531017980432477"
          },
          "metadata": {}
        }
      ]
    },
    {
      "metadata": {
        "trusted": true,
        "_uuid": "b5f342fdc31dcc2bc9609af1f09272ec6158cf05"
      },
      "cell_type": "code",
      "source": "print(\"df: train.csv\")\nprint(\"Linhas:\", train.shape[0] , \"\\nColunas:\", train.shape[1])\nprint(\"\\ndf: test.csv\")\nprint(\"Linhas:\", test.shape[0] , \"\\nColunas:\", test.shape[1])",
      "execution_count": 27,
      "outputs": [
        {
          "output_type": "stream",
          "text": "df: train.csv\nLinhas: 10886 \nColunas: 12\n\ndf: test.csv\nLinhas: 6493 \nColunas: 9\n",
          "name": "stdout"
        }
      ]
    },
    {
      "metadata": {
        "trusted": true,
        "_uuid": "05d734e2e97806ced02e199f2d16e99342a1799d"
      },
      "cell_type": "code",
      "source": "df = train.append(test)\ndf['datetime'] = pd.to_datetime(df['datetime'])",
      "execution_count": 28,
      "outputs": [
        {
          "output_type": "stream",
          "text": "/opt/conda/lib/python3.6/site-packages/pandas/core/frame.py:6211: FutureWarning: Sorting because non-concatenation axis is not aligned. A future version\nof pandas will change to not sort by default.\n\nTo accept the future behavior, pass 'sort=False'.\n\nTo retain the current behavior and silence the warning, pass 'sort=True'.\n\n  sort=sort)\n",
          "name": "stderr"
        }
      ]
    },
    {
      "metadata": {
        "trusted": true,
        "_uuid": "daaa146c6c8f1e186323496bc43d55a2f55a0cd3"
      },
      "cell_type": "code",
      "source": "df.shape[0]",
      "execution_count": 30,
      "outputs": [
        {
          "output_type": "execute_result",
          "execution_count": 30,
          "data": {
            "text/plain": "17379"
          },
          "metadata": {}
        }
      ]
    },
    {
      "metadata": {
        "trusted": true,
        "_uuid": "11ea1c7357f5f823d414392423e07c4a422b5e78"
      },
      "cell_type": "code",
      "source": "# Definindo as colunas ano e dia , tendo em vista que a coluna mês já existe\ndf['year'] = df['datetime'].dt.year\ndf['day'] = df['datetime'].dt.day\ndf['hour'] = df['datetime'].dt.hour\ndf['dayofweek'] = df['datetime'].dt.dayofweek\n",
      "execution_count": 31,
      "outputs": []
    },
    {
      "metadata": {
        "trusted": true,
        "_uuid": "e33c0bae7e5d5cfe882ab656e54616a7c8e0d351"
      },
      "cell_type": "code",
      "source": "df.columns",
      "execution_count": 32,
      "outputs": [
        {
          "output_type": "execute_result",
          "execution_count": 32,
          "data": {
            "text/plain": "Index(['atemp', 'casual', 'count', 'datetime', 'holiday', 'humidity',\n       'registered', 'season', 'temp', 'weather', 'windspeed', 'workingday',\n       'year', 'day', 'hour', 'dayofweek'],\n      dtype='object')"
          },
          "metadata": {}
        }
      ]
    },
    {
      "metadata": {
        "trusted": true,
        "_uuid": "acec502d79b1ebf73eb8d737a638324093c169f1"
      },
      "cell_type": "code",
      "source": "#Ordenando os valores por data e gravando no df\ndf.sort_values('datetime', inplace=True)",
      "execution_count": 35,
      "outputs": []
    },
    {
      "metadata": {
        "trusted": true,
        "_uuid": "65d8896ae168170ca1ebfc928c870c2e9bb14eac"
      },
      "cell_type": "code",
      "source": "df['datetime'].head(5)",
      "execution_count": 38,
      "outputs": [
        {
          "output_type": "execute_result",
          "execution_count": 38,
          "data": {
            "text/plain": "0   2011-01-01 00:00:00\n1   2011-01-01 01:00:00\n2   2011-01-01 02:00:00\n3   2011-01-01 03:00:00\n4   2011-01-01 04:00:00\nName: datetime, dtype: datetime64[ns]"
          },
          "metadata": {}
        }
      ]
    },
    {
      "metadata": {
        "trusted": true,
        "_uuid": "20770569750309e08dbf95c003f8a1ac8af47eb3"
      },
      "cell_type": "code",
      "source": "#Tirando a média movel rolling_temp e temp\ndf['rolling_temp'] = df['temp'].rolling(4, min_periods=1).mean()",
      "execution_count": 40,
      "outputs": []
    },
    {
      "metadata": {
        "trusted": true,
        "_uuid": "179c96700bf9870ecdf2d155e434627f3d9209b8"
      },
      "cell_type": "code",
      "source": "df[['rolling_temp', 'temp']].head(10)",
      "execution_count": 44,
      "outputs": [
        {
          "output_type": "execute_result",
          "execution_count": 44,
          "data": {
            "text/plain": "   rolling_temp   temp\n0      9.840000   9.84\n1      9.430000   9.02\n2      9.293333   9.02\n3      9.430000   9.84\n4      9.430000   9.84\n5      9.635000   9.84\n6      9.635000   9.02\n7      9.225000   8.20\n8      9.225000   9.84\n9     10.045000  13.12",
            "text/html": "<div>\n<style scoped>\n    .dataframe tbody tr th:only-of-type {\n        vertical-align: middle;\n    }\n\n    .dataframe tbody tr th {\n        vertical-align: top;\n    }\n\n    .dataframe thead th {\n        text-align: right;\n    }\n</style>\n<table border=\"1\" class=\"dataframe\">\n  <thead>\n    <tr style=\"text-align: right;\">\n      <th></th>\n      <th>rolling_temp</th>\n      <th>temp</th>\n    </tr>\n  </thead>\n  <tbody>\n    <tr>\n      <th>0</th>\n      <td>9.840000</td>\n      <td>9.84</td>\n    </tr>\n    <tr>\n      <th>1</th>\n      <td>9.430000</td>\n      <td>9.02</td>\n    </tr>\n    <tr>\n      <th>2</th>\n      <td>9.293333</td>\n      <td>9.02</td>\n    </tr>\n    <tr>\n      <th>3</th>\n      <td>9.430000</td>\n      <td>9.84</td>\n    </tr>\n    <tr>\n      <th>4</th>\n      <td>9.430000</td>\n      <td>9.84</td>\n    </tr>\n    <tr>\n      <th>5</th>\n      <td>9.635000</td>\n      <td>9.84</td>\n    </tr>\n    <tr>\n      <th>6</th>\n      <td>9.635000</td>\n      <td>9.02</td>\n    </tr>\n    <tr>\n      <th>7</th>\n      <td>9.225000</td>\n      <td>8.20</td>\n    </tr>\n    <tr>\n      <th>8</th>\n      <td>9.225000</td>\n      <td>9.84</td>\n    </tr>\n    <tr>\n      <th>9</th>\n      <td>10.045000</td>\n      <td>13.12</td>\n    </tr>\n  </tbody>\n</table>\n</div>"
          },
          "metadata": {}
        }
      ]
    },
    {
      "metadata": {
        "trusted": true,
        "_uuid": "f244b0314e25cdb4a503ac807017d8b840fe2e00"
      },
      "cell_type": "code",
      "source": "plt.scatter(df.rolling_temp, df.temp,  color='black')\nplt.plot(df.rolling_temp, df.temp, color='blue', linewidth=1)\nplt.xticks()\nplt.yticks()\nplt.xlabel(\"rolling_temp\")\nplt.ylabel(\"temp\")\nplt.show()",
      "execution_count": 59,
      "outputs": [
        {
          "output_type": "display_data",
          "data": {
            "text/plain": "<Figure size 432x288 with 1 Axes>",
            "image/png": "[encoded data removed]"
          },
          "metadata": {}
        }
      ]
    },
    {
      "metadata": {
        "trusted": true,
        "_uuid": "51d9930eafb788077ece88ceff1ffaf054efa488"
      },
      "cell_type": "code",
      "source": "#Utilizando get_dummies para transformar variáveis em dummies\n#df2 = pd.get_dummies(df)",
      "execution_count": 73,
      "outputs": []
    },
    {
      "metadata": {
        "trusted": true,
        "_uuid": "112effd619d9bc36bfd5acec75219254c8242ba7"
      },
      "cell_type": "code",
      "source": "pd.get_dummies(df['dayofweek'], prefix='prefixo').head()",
      "execution_count": 75,
      "outputs": [
        {
          "output_type": "execute_result",
          "execution_count": 75,
          "data": {
            "text/plain": "   prefixo_0  prefixo_1  prefixo_2    ...      prefixo_4  prefixo_5  prefixo_6\n0          0          0          0    ...              0          1          0\n1          0          0          0    ...              0          1          0\n2          0          0          0    ...              0          1          0\n3          0          0          0    ...              0          1          0\n4          0          0          0    ...              0          1          0\n\n[5 rows x 7 columns]",
            "text/html": "<div>\n<style scoped>\n    .dataframe tbody tr th:only-of-type {\n        vertical-align: middle;\n    }\n\n    .dataframe tbody tr th {\n        vertical-align: top;\n    }\n\n    .dataframe thead th {\n        text-align: right;\n    }\n</style>\n<table border=\"1\" class=\"dataframe\">\n  <thead>\n    <tr style=\"text-align: right;\">\n      <th></th>\n      <th>prefixo_0</th>\n      <th>prefixo_1</th>\n      <th>prefixo_2</th>\n      <th>prefixo_3</th>\n      <th>prefixo_4</th>\n      <th>prefixo_5</th>\n      <th>prefixo_6</th>\n    </tr>\n  </thead>\n  <tbody>\n    <tr>\n      <th>0</th>\n      <td>0</td>\n      <td>0</td>\n      <td>0</td>\n      <td>0</td>\n      <td>0</td>\n      <td>1</td>\n      <td>0</td>\n    </tr>\n    <tr>\n      <th>1</th>\n      <td>0</td>\n      <td>0</td>\n      <td>0</td>\n      <td>0</td>\n      <td>0</td>\n      <td>1</td>\n      <td>0</td>\n    </tr>\n    <tr>\n      <th>2</th>\n      <td>0</td>\n      <td>0</td>\n      <td>0</td>\n      <td>0</td>\n      <td>0</td>\n      <td>1</td>\n      <td>0</td>\n    </tr>\n    <tr>\n      <th>3</th>\n      <td>0</td>\n      <td>0</td>\n      <td>0</td>\n      <td>0</td>\n      <td>0</td>\n      <td>1</td>\n      <td>0</td>\n    </tr>\n    <tr>\n      <th>4</th>\n      <td>0</td>\n      <td>0</td>\n      <td>0</td>\n      <td>0</td>\n      <td>0</td>\n      <td>1</td>\n      <td>0</td>\n    </tr>\n  </tbody>\n</table>\n</div>"
          },
          "metadata": {}
        }
      ]
    },
    {
      "metadata": {
        "trusted": true,
        "_uuid": "4761c5e8397a0302d0c811c4886d5e1f7aff6731"
      },
      "cell_type": "code",
      "source": "df.loc[:, (df.nunique() > 2) & (df.nunique() < 8 )].head()",
      "execution_count": 77,
      "outputs": [
        {
          "output_type": "execute_result",
          "execution_count": 77,
          "data": {
            "text/plain": "   season  weather  dayofweek\n0       1        1          5\n1       1        1          5\n2       1        1          5\n3       1        1          5\n4       1        1          5",
            "text/html": "<div>\n<style scoped>\n    .dataframe tbody tr th:only-of-type {\n        vertical-align: middle;\n    }\n\n    .dataframe tbody tr th {\n        vertical-align: top;\n    }\n\n    .dataframe thead th {\n        text-align: right;\n    }\n</style>\n<table border=\"1\" class=\"dataframe\">\n  <thead>\n    <tr style=\"text-align: right;\">\n      <th></th>\n      <th>season</th>\n      <th>weather</th>\n      <th>dayofweek</th>\n    </tr>\n  </thead>\n  <tbody>\n    <tr>\n      <th>0</th>\n      <td>1</td>\n      <td>1</td>\n      <td>5</td>\n    </tr>\n    <tr>\n      <th>1</th>\n      <td>1</td>\n      <td>1</td>\n      <td>5</td>\n    </tr>\n    <tr>\n      <th>2</th>\n      <td>1</td>\n      <td>1</td>\n      <td>5</td>\n    </tr>\n    <tr>\n      <th>3</th>\n      <td>1</td>\n      <td>1</td>\n      <td>5</td>\n    </tr>\n    <tr>\n      <th>4</th>\n      <td>1</td>\n      <td>1</td>\n      <td>5</td>\n    </tr>\n  </tbody>\n</table>\n</div>"
          },
          "metadata": {}
        }
      ]
    },
    {
      "metadata": {
        "trusted": true,
        "_uuid": "6341b8d1c0bc63c0dcbfc4edb04fa6fea5bc9451"
      },
      "cell_type": "code",
      "source": "#Criando um gráfico da temperatura das estações \n#df[''] = df2[df2['season'] == 1]\n#verao  = dftrain[dftrain['season'] == 2]\n#outono = dftrain[dftrain['season'] == 3]\n#inverno = dftrain[dftrain['season'] == 4]",
      "execution_count": 78,
      "outputs": []
    },
    {
      "metadata": {
        "trusted": true,
        "_uuid": "72d861b679f2601c8d64b827cc65dc1231862c15"
      },
      "cell_type": "code",
      "source": "",
      "execution_count": null,
      "outputs": []
    },
    {
      "metadata": {
        "trusted": true,
        "_uuid": "ab9a2efae0a076926a31132bf4c5de443cd2ed68"
      },
      "cell_type": "code",
      "source": "for col in df.loc[:, (df.nunique() > 2 ) & (df.nunique() < 8 )].columns:\n    df = pd.concat([df, pd.get_dummies(df[col], prefix=col).iloc[:, :-1]], \n                  axis=1)\n    del df[col]",
      "execution_count": 79,
      "outputs": []
    },
    {
      "metadata": {
        "trusted": true,
        "_uuid": "49d8d2f97cbf0f0b575baecdbf4bf8d77ac3c6aa"
      },
      "cell_type": "code",
      "source": "df.columns",
      "execution_count": 81,
      "outputs": [
        {
          "output_type": "execute_result",
          "execution_count": 81,
          "data": {
            "text/plain": "Index(['atemp', 'casual', 'count', 'datetime', 'holiday', 'humidity',\n       'registered', 'temp', 'windspeed', 'workingday', 'year', 'day', 'hour',\n       'rolling_temp', 'season_1', 'season_2', 'season_3', 'weather_1',\n       'weather_2', 'weather_3', 'dayofweek_0', 'dayofweek_1', 'dayofweek_2',\n       'dayofweek_3', 'dayofweek_4', 'dayofweek_5'],\n      dtype='object')"
          },
          "metadata": {}
        }
      ]
    },
    {
      "metadata": {
        "trusted": true,
        "_uuid": "8cea49db290a2e0355292d8cb96d47562a310cf5"
      },
      "cell_type": "code",
      "source": "df['dayofweek_1'].unique()",
      "execution_count": 84,
      "outputs": [
        {
          "output_type": "execute_result",
          "execution_count": 84,
          "data": {
            "text/plain": "array([0, 1], dtype=uint64)"
          },
          "metadata": {}
        }
      ]
    },
    {
      "metadata": {
        "trusted": true,
        "_uuid": "e9165e5dce4ddc9d6c69516c463fe56b637f2aba"
      },
      "cell_type": "code",
      "source": "train_raw  = df[~df['count'].isnull()]\ntest = df[df['count'].isnull()]",
      "execution_count": 91,
      "outputs": []
    },
    {
      "metadata": {
        "_uuid": "b4f280ad6f61d28d193c3c9f5a22d8c93bb4ec0c"
      },
      "cell_type": "markdown",
      "source": "# Separando em treino e validação"
    },
    {
      "metadata": {
        "trusted": true,
        "_uuid": "0ca1778b8d7cfa3643afd978d5fc7b4fddc701d2"
      },
      "cell_type": "code",
      "source": "from sklearn.model_selection import train_test_split",
      "execution_count": 93,
      "outputs": []
    },
    {
      "metadata": {
        "trusted": true,
        "_uuid": "8b8dc63c5231246cbcda56dd481e1a87b6e148f8"
      },
      "cell_type": "code",
      "source": "train, valid = train_test_split(train_raw, random_state=42)",
      "execution_count": 94,
      "outputs": []
    },
    {
      "metadata": {
        "trusted": true,
        "_uuid": "dd8376b7e137221d17d8083821ba8d73e32b6ee2"
      },
      "cell_type": "code",
      "source": "from sklearn.ensemble import RandomForestRegressor , ExtraTreesRegressor\nfrom sklearn.ensemble import AdaBoostRegressor , GradientBoostingRegressor\nfrom sklearn.tree import DecisionTreeRegressor\nfrom sklearn.neighbors import KNeighborsRegressor\nfrom sklearn.linear_model import LinearRegression\nfrom sklearn.svm import SVR",
      "execution_count": 101,
      "outputs": []
    },
    {
      "metadata": {
        "trusted": true,
        "_uuid": "83e2d123665628f42b79f47a4406a0661542b878"
      },
      "cell_type": "code",
      "source": "#Criando um dicionário \nmodels = {'RandomForest': RandomForestRegressor(random_state=42),\n         'ExtraTreesRegressor': ExtraTreesRegressor(random_state=42),\n         'GBM': GradientBoostingRegressor(random_state=42),\n         'DecisionTree': DecisionTreeRegressor(random_state=42),\n         'AdaBoost': AdaBoostRegressor(random_state=42), \n         'KNN 1': KNeighborsRegressor(n_neighbors=1),\n         'KNN 3': KNeighborsRegressor(n_neighbors=3),\n         'KNN 3': KNeighborsRegressor(n_neighbors=11),\n         'SVR': SVR(), \n         'Linear Regression': LinearRegression()}",
      "execution_count": 103,
      "outputs": []
    },
    {
      "metadata": {
        "trusted": true,
        "_uuid": "40c458fadec02950ddfe57f35b151a9f063000ea"
      },
      "cell_type": "code",
      "source": "removed_cols = ['count', 'casual', 'registered', 'datetime']",
      "execution_count": 104,
      "outputs": []
    },
    {
      "metadata": {
        "trusted": true,
        "_uuid": "f30f9f33d5d0b4d8a70559cce6733492db63ab17"
      },
      "cell_type": "code",
      "source": "\nfeats = [c for c in df.columns if c not in removed_cols]",
      "execution_count": 105,
      "outputs": []
    },
    {
      "metadata": {
        "trusted": true,
        "_uuid": "d487db71b0a92af125a008e30f1727576693b677"
      },
      "cell_type": "code",
      "source": "feats",
      "execution_count": 106,
      "outputs": [
        {
          "output_type": "execute_result",
          "execution_count": 106,
          "data": {
            "text/plain": "['atemp',\n 'holiday',\n 'humidity',\n 'temp',\n 'windspeed',\n 'workingday',\n 'year',\n 'day',\n 'hour',\n 'rolling_temp',\n 'season_1',\n 'season_2',\n 'season_3',\n 'weather_1',\n 'weather_2',\n 'weather_3',\n 'dayofweek_0',\n 'dayofweek_1',\n 'dayofweek_2',\n 'dayofweek_3',\n 'dayofweek_4',\n 'dayofweek_5']"
          },
          "metadata": {}
        }
      ]
    },
    {
      "metadata": {
        "trusted": true,
        "_uuid": "d739fd8fc98245e33919cdbb93011b5d968a1a23"
      },
      "cell_type": "code",
      "source": "removed_cols\nfrom sklearn.metrics import  mean_squared_error\n",
      "execution_count": 137,
      "outputs": []
    },
    {
      "metadata": {
        "trusted": true,
        "_uuid": "99e0b1eb764c9f2b83f68017c964a782d978407e"
      },
      "cell_type": "code",
      "source": "#Criando uma função\ndef run_model(model,train,valid,feats,y_name):\n    model.fit(train[feats],train[y_name])\n    preds =model.predict(valid[feats])\n    return mean_squared_error(valid[y_name],preds)**(1/2)",
      "execution_count": 138,
      "outputs": []
    },
    {
      "metadata": {
        "trusted": true,
        "_uuid": "1cb8517689d5c67fb472a5c17682d6ab440f2197"
      },
      "cell_type": "code",
      "source": "#Removendo a exibição dos erros de deprecação do sklearn\nimport warnings\nwarnings.filterwarnings('ignore', category= FutureWarning)",
      "execution_count": 139,
      "outputs": []
    },
    {
      "metadata": {
        "trusted": true,
        "_uuid": "d6bcb894bec6a350608310effa61d7f38ddc32d1"
      },
      "cell_type": "code",
      "source": "scores=[]\nfor name ,model in models.items():\n    score=run_model(model,train,valid,feats,'count')\n    scores.append(score)\n    print (name+':',score)",
      "execution_count": null,
      "outputs": []
    },
    {
      "metadata": {
        "trusted": true,
        "_uuid": "94352b7f827ef0989f2efb07d169612a340ec6dd"
      },
      "cell_type": "code",
      "source": "",
      "execution_count": null,
      "outputs": []
    }
  ],
  "metadata": {
    "kernelspec": {
      "display_name": "Python 3",
      "language": "python",
      "name": "python3"
    },
    "language_info": {
      "name": "python",
      "version": "3.6.6",
      "mimetype": "text/x-python",
      "codemirror_mode": {
        "name": "ipython",
        "version": 3
      },
      "pygments_lexer": "ipython3",
      "nbconvert_exporter": "python",
      "file_extension": ".py"
    }
  },
  "nbformat": 4,
  "nbformat_minor": 1
}