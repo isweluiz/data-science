{
  "cells": [
    {
      "metadata": {
        "_uuid": "2eee6bbe32c5088543746a23a5cd48acadcbc407"
      },
      "cell_type": "markdown",
      "source": "## Estudos  - 02 \n### https://www.kaggle.com/luizep"
    },
    {
      "metadata": {
        "trusted": true,
        "_uuid": "8ed73c3eee6b9a5c0a0e4b583ee2ff523434b4b6"
      },
      "cell_type": "code",
      "source": "import pandas as pd\nimport numpy as np\nimport seaborn as sns\nimport os ",
      "execution_count": 231,
      "outputs": []
    },
    {
      "metadata": {
        "trusted": true,
        "_uuid": "c1a122ca0db2241c761db10040626688e8dc79f5"
      },
      "cell_type": "code",
      "source": "os.listdir('../input')",
      "execution_count": null,
      "outputs": []
    },
    {
      "metadata": {
        "trusted": true,
        "_uuid": "98c37445cc8e126c2174c1dbbe2d153c5c841efd"
      },
      "cell_type": "code",
      "source": "# nrows=100\ndftrain = pd.read_csv(r\"../input/train.csv\" )\n\n#> ##??pd.read\n#Passando parâmetro de de conversão do tipo de dados da coluna data\n#dftrain = pd.read_csv(r\"../input/train.csv\" , parse_dates=[0])",
      "execution_count": null,
      "outputs": []
    },
    {
      "metadata": {
        "trusted": true,
        "_uuid": "badd9141c62ca3f6d06771178160ad437cebf85a"
      },
      "cell_type": "code",
      "source": "dftrain.head()",
      "execution_count": null,
      "outputs": []
    },
    {
      "metadata": {
        "trusted": true,
        "_uuid": "5b1741734422c5a7af7e27647ca1a8591f5015fc"
      },
      "cell_type": "code",
      "source": "dftrain.tail()",
      "execution_count": null,
      "outputs": []
    },
    {
      "metadata": {
        "trusted": true,
        "_uuid": "7ede119bd94a6f6fe6cf6258effaa3da2f49860d"
      },
      "cell_type": "code",
      "source": "print(\"Linhas\", dftrain.shape[0] , \"\\nColunas:\", dftrain.shape[1])",
      "execution_count": null,
      "outputs": []
    },
    {
      "metadata": {
        "trusted": true,
        "_uuid": "70b2aeef668cd819d32fcc2ab7f68606ec76dfd5"
      },
      "cell_type": "code",
      "source": "list(dftrain)",
      "execution_count": null,
      "outputs": []
    },
    {
      "metadata": {
        "trusted": true,
        "_uuid": "9b73436410a7f4defe6430fbbfd00d6d6e2c76c6"
      },
      "cell_type": "code",
      "source": "#transposição de dataset \ndftrain.sample(5).T",
      "execution_count": null,
      "outputs": []
    },
    {
      "metadata": {
        "trusted": true,
        "_uuid": "769221993c3ff4eabeb2253b518167fb5fee922e"
      },
      "cell_type": "code",
      "source": "dftrain.describe()",
      "execution_count": null,
      "outputs": []
    },
    {
      "metadata": {
        "trusted": true,
        "_uuid": "ea24a5ed789b581048d04c7518dfbd57aa5d53ce"
      },
      "cell_type": "code",
      "source": "dftrain.dtypes",
      "execution_count": null,
      "outputs": []
    },
    {
      "metadata": {
        "trusted": true,
        "_uuid": "7ef01a8f68f492397e1cdb925a14e4179f3d35ad"
      },
      "cell_type": "code",
      "source": "#Info sobre o dataset\ndftrain.info()",
      "execution_count": null,
      "outputs": []
    },
    {
      "metadata": {
        "trusted": true,
        "_uuid": "967a1b043006218c49d61af5fc733c9909f7b8f9"
      },
      "cell_type": "code",
      "source": "#soma de linhas com valores nulos \ndftrain.isnull().sum()",
      "execution_count": null,
      "outputs": []
    },
    {
      "metadata": {
        "trusted": true,
        "_uuid": "4913d1f5c13ec5a2278504b06ba4cd9595635255"
      },
      "cell_type": "code",
      "source": "#junção de dataframe\ndf2train = dftrain.append(dftrain)\ndf2train.shape",
      "execution_count": null,
      "outputs": []
    },
    {
      "metadata": {
        "trusted": true,
        "scrolled": true,
        "_uuid": "bcf616931d59e7682749180da5cc4958be114f20"
      },
      "cell_type": "code",
      "source": "#Pegando linhas pela posição do índice \ndf2train.loc[20]",
      "execution_count": null,
      "outputs": []
    },
    {
      "metadata": {
        "trusted": true,
        "_uuid": "21aef040f88db1b3e56703b0e9d9b109bb02c286"
      },
      "cell_type": "code",
      "source": "#Pegando linhas pela posição do índice \ndftrain.loc[20:30]",
      "execution_count": null,
      "outputs": []
    },
    {
      "metadata": {
        "trusted": true,
        "_uuid": "e68d662535a1c935e9d4a51ee4c4d9581d53db61"
      },
      "cell_type": "code",
      "source": "#Pegando linhas pela posição, num da linha\ndf2train.iloc[20]",
      "execution_count": null,
      "outputs": []
    },
    {
      "metadata": {
        "trusted": true,
        "_uuid": "367d04d0559de3dab523e111119bca8dac913f6c"
      },
      "cell_type": "code",
      "source": "#Pegando linhas pela posição, num da linha\ndftrain.iloc[20:30]",
      "execution_count": null,
      "outputs": []
    },
    {
      "metadata": {
        "_uuid": "f9d6ccbf22b06b8738f9e318b4afd891140ad479"
      },
      "cell_type": "markdown",
      "source": "###  Selecionando colunas"
    },
    {
      "metadata": {
        "trusted": true,
        "_uuid": "fc7aef552521d25996ccc9b7a7f8a840806cd43c"
      },
      "cell_type": "code",
      "source": "dftrain['datetime'].head()",
      "execution_count": null,
      "outputs": []
    },
    {
      "metadata": {
        "trusted": true,
        "_uuid": "7187a2019e5f6c99de766f47031e6cdc1f02fa87"
      },
      "cell_type": "code",
      "source": "dftrain[['datetime','holiday', 'season']].head()",
      "execution_count": null,
      "outputs": []
    },
    {
      "metadata": {
        "trusted": true,
        "_uuid": "f446f08fa6067b8d957d6d087238e0393e1f8d7a"
      },
      "cell_type": "code",
      "source": "#Type do dataset\ntype(dftrain)",
      "execution_count": null,
      "outputs": []
    },
    {
      "metadata": {
        "trusted": true,
        "_uuid": "b8fa84d444765110ba4a0a83e279590f19e9bbce"
      },
      "cell_type": "code",
      "source": "#Tipo dos dados da coluna datetime\ntype(dftrain['datetime'])",
      "execution_count": null,
      "outputs": []
    },
    {
      "metadata": {
        "trusted": true,
        "_uuid": "f2558b8d4f1ca67f2d41f179e32d1849c727e377"
      },
      "cell_type": "code",
      "source": "dftrain['season'].describe()",
      "execution_count": null,
      "outputs": []
    },
    {
      "metadata": {
        "trusted": true,
        "_uuid": "660df0c9425711ce48f2830250ce23cd53803d26"
      },
      "cell_type": "code",
      "source": "#Fequência de repetição de dados\ndftrain['season'].value_counts()",
      "execution_count": null,
      "outputs": []
    },
    {
      "metadata": {
        "trusted": true,
        "_uuid": "3a517cfa38fdf4a406b3457180ec0805c21f3c12"
      },
      "cell_type": "code",
      "source": "dftrain.count()",
      "execution_count": null,
      "outputs": []
    },
    {
      "metadata": {
        "trusted": true,
        "_uuid": "d2de53cc246e72bbf35dc66244f9b1b2d7b3446a"
      },
      "cell_type": "code",
      "source": "#Fequência de repetição de dados em percentual\ndftrain['season'].value_counts(normalize=True)",
      "execution_count": null,
      "outputs": []
    },
    {
      "metadata": {
        "trusted": true,
        "_uuid": "1e7d44a4ed97459333db5a87fb48ce6bcb05ec6c"
      },
      "cell_type": "code",
      "source": "#Registros unicos que não se repetem \ndftrain['season'].nunique()",
      "execution_count": null,
      "outputs": []
    },
    {
      "metadata": {
        "trusted": true,
        "_uuid": "c940012c7d1c17c44ceac185e589c7736db23939"
      },
      "cell_type": "code",
      "source": "#Quantidade de valores unicos\ndftrain['season'].unique()",
      "execution_count": null,
      "outputs": []
    },
    {
      "metadata": {
        "trusted": true,
        "_uuid": "5eeef61d2a8fa9ba5030d2e06804c7c83cf120c8"
      },
      "cell_type": "code",
      "source": "# Seleção de linhas e colunas\ndftrain.loc[15:20, 'season':'holiday']",
      "execution_count": null,
      "outputs": []
    },
    {
      "metadata": {
        "trusted": true,
        "_uuid": "9bd7b45f940d3dc77dc1208dcaa635f69116c9b4"
      },
      "cell_type": "code",
      "source": "# Seleção de linhas e colunas\ndftrain.loc[15:20, 'temp':'casual']",
      "execution_count": null,
      "outputs": []
    },
    {
      "metadata": {
        "trusted": true,
        "_uuid": "4bc3bf7a9a5bbfa41b32e7363157daf9091eaa79"
      },
      "cell_type": "code",
      "source": "#Selção de uma célula específica\ndftrain.at[4, 'temp']",
      "execution_count": null,
      "outputs": []
    },
    {
      "metadata": {
        "trusted": true,
        "_uuid": "14fbbcd52387d7825c72b809dffff9195296c979"
      },
      "cell_type": "code",
      "source": "#iat possui maior performance\ndftrain.iat[4, 5]",
      "execution_count": null,
      "outputs": []
    },
    {
      "metadata": {
        "trusted": true,
        "_uuid": "6ed6729fb00480648b099cd5fd605727259709d4"
      },
      "cell_type": "code",
      "source": " dftrain.loc[4].iat[5]",
      "execution_count": null,
      "outputs": []
    },
    {
      "metadata": {
        "trusted": true,
        "_uuid": "120ea92d2a843d1ef721be622a57c144b30e3c59"
      },
      "cell_type": "code",
      "source": "#Alterando o tipo da coluna data\ndftrain['datetime'] = pd.to_datetime(dftrain['datetime'])",
      "execution_count": null,
      "outputs": []
    },
    {
      "metadata": {
        "trusted": true,
        "_uuid": "a90123a8e2b45711286e63926577ce4995c4724b"
      },
      "cell_type": "code",
      "source": "dftrain['datetime'].dtypes",
      "execution_count": null,
      "outputs": []
    },
    {
      "metadata": {
        "trusted": true,
        "_uuid": "d794e6b588b9ccb2cf833c948afa76488d67fc11"
      },
      "cell_type": "code",
      "source": "dftrain.dtypes",
      "execution_count": null,
      "outputs": []
    },
    {
      "metadata": {
        "trusted": true,
        "_uuid": "43161362da51de0ac74ba0b0262d4ed844b8fa73"
      },
      "cell_type": "code",
      "source": "#Alterando tipo dos dados da colunas season\ndftrain['season'].astype(float).head()",
      "execution_count": null,
      "outputs": []
    },
    {
      "metadata": {
        "trusted": true,
        "_uuid": "53026a40e3fe227d673857235dce77264a0afd51"
      },
      "cell_type": "code",
      "source": "#extraindo o mês da coluna data # a.dt\ndftrain['datetime'].dt.month.unique()",
      "execution_count": null,
      "outputs": []
    },
    {
      "metadata": {
        "trusted": true,
        "_uuid": "17f2f74f29ade65fa9a8956b719650093fec5442"
      },
      "cell_type": "code",
      "source": "dftrain['datetime'] == 1",
      "execution_count": null,
      "outputs": []
    },
    {
      "metadata": {
        "trusted": true,
        "_uuid": "896d0b2b29ea6682168f141304cc52ecf4952a56"
      },
      "cell_type": "code",
      "source": "#segregando o dataset por mês\ndftrain['month'] = dftrain['datetime'].dt.month",
      "execution_count": null,
      "outputs": []
    },
    {
      "metadata": {
        "trusted": true,
        "_uuid": "372de9e2150336b43df3326920a003809a22362f"
      },
      "cell_type": "code",
      "source": "dftrain[dftrain['month'] == 2].head()",
      "execution_count": null,
      "outputs": []
    },
    {
      "metadata": {
        "trusted": true,
        "_uuid": "ce14c1ca103391852922ff77a4f7f5bd7d01ea74"
      },
      "cell_type": "code",
      "source": "dftrain.columns",
      "execution_count": null,
      "outputs": []
    },
    {
      "metadata": {
        "trusted": true,
        "_uuid": "931b640b07507f3bf99f7f8763650a90fb3a63e0"
      },
      "cell_type": "code",
      "source": "fevereiro = dftrain[dftrain['month'] == 2]",
      "execution_count": null,
      "outputs": []
    },
    {
      "metadata": {
        "trusted": true,
        "_uuid": "1926c360e9dfabf08c39415c538569ee50aa4936"
      },
      "cell_type": "code",
      "source": "fevereiro.head()",
      "execution_count": null,
      "outputs": []
    },
    {
      "metadata": {
        "trusted": true,
        "_uuid": "49165d2fde1813a6a147a821d1701cb592ab9c9d"
      },
      "cell_type": "code",
      "source": "data = dftrain['datetime']",
      "execution_count": null,
      "outputs": []
    },
    {
      "metadata": {
        "trusted": true,
        "_uuid": "d4c41aa9cbf1b7dcfe9ea57808f43b07fd90e3fd"
      },
      "cell_type": "code",
      "source": "data.dt.year.unique()",
      "execution_count": null,
      "outputs": []
    },
    {
      "metadata": {
        "trusted": true,
        "_uuid": "10bfab0e8e236b2041a1b3df89287cdbef18710b"
      },
      "cell_type": "code",
      "source": "dftrain['ano'] = dftrain['datetime'].dt.year",
      "execution_count": null,
      "outputs": []
    },
    {
      "metadata": {
        "trusted": true,
        "_uuid": "58ef261ce741574052fb7314d43b01555e18f415"
      },
      "cell_type": "code",
      "source": "#Criando parâmetros\ndftrain[(dftrain['month'] == 2 ) & (dftrain['humidity'] > 93)]",
      "execution_count": null,
      "outputs": []
    },
    {
      "metadata": {
        "trusted": true,
        "_uuid": "9e09bbcd09609d0392a81e5a8d4b9c246ba0a589"
      },
      "cell_type": "code",
      "source": "#Criando um filtro de boleanos para a minha condição \nfiltro = (dftrain['ano'] == 2011 ) | (dftrain['humidity'] > 98)",
      "execution_count": null,
      "outputs": []
    },
    {
      "metadata": {
        "trusted": true,
        "scrolled": true,
        "_uuid": "77c1a175a1e780540220f48ed85d07a97c51b7ee"
      },
      "cell_type": "code",
      "source": "filtro.head()",
      "execution_count": null,
      "outputs": []
    },
    {
      "metadata": {
        "trusted": true,
        "_uuid": "3f499c6b79cfdcc34fb20674ba3f4318a3dbb86f"
      },
      "cell_type": "code",
      "source": "#Testando a condição\nfiltro.any()",
      "execution_count": null,
      "outputs": []
    },
    {
      "metadata": {
        "trusted": true,
        "_uuid": "a4bc19051875e65f6dab2542d6c4cd7169be72b5"
      },
      "cell_type": "code",
      "source": "#Testando a condição\nfiltro.all()",
      "execution_count": null,
      "outputs": []
    },
    {
      "metadata": {
        "trusted": true,
        "_uuid": "610c5dab0127920c855bf54cf85aac65f7784a13"
      },
      "cell_type": "code",
      "source": "#Aplicando condicionais \ndftrain[(dftrain['ano'] == 2012) & (dftrain['season'] > 1)].head()",
      "execution_count": null,
      "outputs": []
    },
    {
      "metadata": {
        "trusted": true,
        "_uuid": "bd6eea645595709110ebabe22cd76bbc48306711"
      },
      "cell_type": "code",
      "source": "dftrain['temp'].hist(grid=False, color='green', bins=30, figsize=(10,7))\nplt.ylabel(\"Frequência\")\nplt.xlabel(\"Temperatura\")\nplt.show()\n",
      "execution_count": 227,
      "outputs": [
        {
          "output_type": "display_data",
          "data": {
            "text/plain": "<Figure size 720x504 with 1 Axes>",
            "image/png": "[encoded data removed]"
          },
          "metadata": {
            "needs_background": "light"
          }
        }
      ]
    },
    {
      "metadata": {
        "trusted": true,
        "_uuid": "1ba549813af771bf812621a0e5f54f1bbd95778c"
      },
      "cell_type": "code",
      "source": "#Trabalhando os gráficos\ndftrain[(dftrain['temp'] > 15 ) & (dftrain['season'] > 1)]['temp'].hist(grid=False)\nplt.show()",
      "execution_count": 226,
      "outputs": [
        {
          "output_type": "display_data",
          "data": {
            "text/plain": "<Figure size 432x288 with 1 Axes>",
            "image/png": "[encoded data removed]"
          },
          "metadata": {
            "needs_background": "light"
          }
        }
      ]
    },
    {
      "metadata": {
        "trusted": true,
        "_uuid": "7d6a55ebb75186ed2044747c6d2095f269a05713"
      },
      "cell_type": "code",
      "source": "#Gráfico de caixa\ndftrain[(dftrain['temp'] > 15 ) & (dftrain['season'] > 1)]['temp'].plot.box()\nplt.show()",
      "execution_count": 228,
      "outputs": [
        {
          "output_type": "display_data",
          "data": {
            "text/plain": "<Figure size 432x288 with 1 Axes>",
            "image/png": "[encoded data removed]"
          },
          "metadata": {
            "needs_background": "light"
          }
        }
      ]
    },
    {
      "metadata": {
        "trusted": true,
        "_uuid": "c95baf6f21d7c39740121bd0fe9ec9a2a6d7921e"
      },
      "cell_type": "code",
      "source": "dftrain[(dftrain['temp'] > 15 ) & (dftrain['season'] > 1)]['temp'].sns.distplot()",
      "execution_count": null,
      "outputs": []
    },
    {
      "metadata": {
        "trusted": true,
        "_uuid": "3864a014c5b62c4fe430fe4435ae376118e1d60f"
      },
      "cell_type": "code",
      "source": "#Utilizando o seaborn para gráfico\nsns.distplot(dftrain['temp'], bins=10)\nplt.show()",
      "execution_count": 234,
      "outputs": [
        {
          "output_type": "display_data",
          "data": {
            "text/plain": "<Figure size 432x288 with 1 Axes>",
            "image/png": "[encoded data removed]"
          },
          "metadata": {
            "needs_background": "light"
          }
        }
      ]
    },
    {
      "metadata": {
        "_uuid": "3eedb86110764b8043f00ed1d98c2b6393cfd781"
      },
      "cell_type": "markdown",
      "source": "###  season -  1 = spring, 2 = summer, 3 = fall, 4 = winter \n"
    },
    {
      "metadata": {
        "trusted": true,
        "_uuid": "7d32ee4e9829f027fde00517554ddd5f6c62a207"
      },
      "cell_type": "code",
      "source": "#Criando um gráfico da temperatura das estações \n\nprimavera = dftrain[dftrain['season'] == 1]\nverao  = dftrain[dftrain['season'] == 2]\noutono = dftrain[dftrain['season'] == 3]\ninverno = dftrain[dftrain['season'] == 4]",
      "execution_count": 238,
      "outputs": []
    },
    {
      "metadata": {
        "trusted": true,
        "_uuid": "7525baee82dd23f1dff1190211d926961b88fc00"
      },
      "cell_type": "code",
      "source": "sns.distplot(primavera['temp'], bins=10, label='Primavera')\nsns.distplot(verao['temp'], bins=10, label='Verão')\nsns.distplot(outono['temp'], bins=10, label='Outono')\nsns.distplot(inverno['temp'], bins=10, label='Inverno')\nplt.legend()",
      "execution_count": 243,
      "outputs": [
        {
          "output_type": "execute_result",
          "execution_count": 243,
          "data": {
            "text/plain": "<matplotlib.legend.Legend at 0x7fccf72f1908>"
          },
          "metadata": {}
        },
        {
          "output_type": "display_data",
          "data": {
            "text/plain": "<Figure size 432x288 with 1 Axes>",
            "image/png": "[encoded data removed]"
          },
          "metadata": {
            "needs_background": "light"
          }
        }
      ]
    }
  ],
  "metadata": {
    "kernelspec": {
      "display_name": "Python 3",
      "language": "python",
      "name": "python3"
    },
    "language_info": {
      "name": "python",
      "version": "3.6.6",
      "mimetype": "text/x-python",
      "codemirror_mode": {
        "name": "ipython",
        "version": 3
      },
      "pygments_lexer": "ipython3",
      "nbconvert_exporter": "python",
      "file_extension": ".py"
    }
  },
  "nbformat": 4,
  "nbformat_minor": 1
}