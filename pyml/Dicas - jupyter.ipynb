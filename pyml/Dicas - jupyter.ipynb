{
 "cells": [
  {
   "cell_type": "markdown",
   "metadata": {},
   "source": [
    "## Dicas de Jupyter Notebook\n",
    "\n",
    "Este programa que estamos usando no navegador se chama Jupyter Notebook e é um interpretador de Python interativo. Podemos digitar um comando de Python, apertar _Shift + Enter_ e esse comando é executado, tendo seu resultado impresso na tela.\n",
    "\n",
    "Existem alguns atalhos bastante úteis para trabalhar com Jupyter Notebook:\n",
    "    0. 'Esc' - Saí do modo edição da célula atual (modo navegação)\n",
    "    1. 'Enter' - Edita a célula selecionada (modo navegação)\n",
    "    2. 'Shift + Enter' - Executa a célula selecionada (modo edição)\n",
    "    3. 'A' - Adiciona uma nova célula acima da célula atual (modo navegação)\n",
    "    4. 'B' - Adiciona uma nova célula abaixo da célula atual (modo navegação)\n",
    "    5. 'X' - Recorta a célula selecionada (modo navegação)\n",
    "    6. 'Z' - Desfaz a deleção de uma célula (modo navegação)\n",
    "    7. 'Ctrl + Z' - Desfaz as últimas edições (modo edição)\n",
    "    8. 'Ctrl + Shift + Z' - Refaz o último comando de desfazer (modo edição)\n",
    "    9. 'H' - Abre um arquivo de ajuda com todos os atalhos (modo navegação)\n",
    "    10. 'Tab' - Faz sugestões para completar o código (modo edição)\n",
    "    11. 'Shift + Tab' - Faz sugestões de assinatura de um método ou função (modo edição)\n",
    "    12. '?função' - Mostra a documentação de uma dada função (modo edição)"
   ]
  },
  {
   "cell_type": "code",
   "execution_count": null,
   "metadata": {},
   "outputs": [],
   "source": []
  }
 ],
 "metadata": {
  "kernelspec": {
   "display_name": "Python 3",
   "language": "python",
   "name": "python3"
  },
  "language_info": {
   "codemirror_mode": {
    "name": "ipython",
    "version": 3
   },
   "file_extension": ".py",
   "mimetype": "text/x-python",
   "name": "python",
   "nbconvert_exporter": "python",
   "pygments_lexer": "ipython3",
   "version": "3.6.4"
  }
 },
 "nbformat": 4,
 "nbformat_minor": 2
}
