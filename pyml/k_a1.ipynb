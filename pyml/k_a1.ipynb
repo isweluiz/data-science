{
  "cells": [
    {
      "metadata": {
        "_uuid": "fc0ccdb2a87c1780d9c974e6800ff12a164fc75f"
      },
      "cell_type": "markdown",
      "source": "## Dicas de Jupyter Notebook\n\nEste programa que estamos usando no navegador se chama Jupyter Notebook e é um interpretador de Python interativo. Podemos digitar um comando de Python, apertar _Shift + Enter_ e esse comando é executado, tendo seu resultado impresso na tela.\n\nExistem alguns atalhos bastante úteis para trabalhar com Jupyter Notebook:\n    0. 'Esc' - Saí do modo edição da célula atual (modo navegação)\n    1. 'Enter' - Edita a célula selecionada (modo navegação)\n    2. 'Shift + Enter' - Executa a célula selecionada (modo edição)\n    3. 'A' - Adiciona uma nova célula acima da célula atual (modo navegação)\n    4. 'B' - Adiciona uma nova célula abaixo da célula atual (modo navegação)\n    5. 'X' - Recorta a célula selecionada (modo navegação)\n    6. 'Z' - Desfaz a deleção de uma célula (modo navegação)\n    7. 'Ctrl + Z' - Desfaz as últimas edições (modo edição)\n    8. 'Ctrl + Shift + Z' - Refaz o último comando de desfazer (modo edição)\n    9. 'H' - Abre um arquivo de ajuda com todos os atalhos (modo navegação)\n    10. 'Tab' - Faz sugestões para completar o código (modo edição)\n    11. 'Shift + Tab' - Faz sugestões de assinatura de um método ou função (modo edição)\n    12. '?função' - Mostra a documentação de uma dada função (modo edição)\n    \n"
    },
    {
      "metadata": {
        "trusted": true,
        "_uuid": "d750a885836fbe2b21dfd78f6df731d17acb71a3"
      },
      "cell_type": "code",
      "source": "import pandas as pd\nimport numpy as np",
      "execution_count": 4,
      "outputs": []
    },
    {
      "metadata": {
        "trusted": true,
        "_uuid": "c9bf53fc48a0ac6c433aab2029522306c928f8dc"
      },
      "cell_type": "code",
      "source": "name = 'Luiz Eduardo'",
      "execution_count": 5,
      "outputs": []
    },
    {
      "metadata": {
        "trusted": true,
        "_uuid": "c8c7d1f21bac2f0a7edbffad03de78c08a543d2b"
      },
      "cell_type": "code",
      "source": "name.lower()",
      "execution_count": 6,
      "outputs": [
        {
          "output_type": "execute_result",
          "execution_count": 6,
          "data": {
            "text/plain": "'luiz eduardo'"
          },
          "metadata": {}
        }
      ]
    },
    {
      "metadata": {
        "trusted": true,
        "_uuid": "d75ab72816e1c1eae8450da731503ed82190f79e"
      },
      "cell_type": "code",
      "source": "\nname.split()",
      "execution_count": 7,
      "outputs": [
        {
          "output_type": "execute_result",
          "execution_count": 7,
          "data": {
            "text/plain": "['Luiz', 'Eduardo']"
          },
          "metadata": {}
        }
      ]
    },
    {
      "metadata": {
        "trusted": true,
        "_uuid": "f96ede9dfc26b397c8727b2a986c4df79c4f14a2"
      },
      "cell_type": "code",
      "source": "ex = 'GCATATAC' ",
      "execution_count": 8,
      "outputs": []
    },
    {
      "metadata": {
        "trusted": true,
        "_uuid": "99cdd71a85feee1f4ee6d75b5bee53ce6786d45d"
      },
      "cell_type": "code",
      "source": "ex.replace('T','U')",
      "execution_count": 10,
      "outputs": [
        {
          "output_type": "execute_result",
          "execution_count": 10,
          "data": {
            "text/plain": "'GCAUAUAC'"
          },
          "metadata": {}
        }
      ]
    },
    {
      "metadata": {
        "trusted": true,
        "_uuid": "551474a049fc31d4f27fa3297e23e1b55b6f7920"
      },
      "cell_type": "code",
      "source": "#Escrevendo em uma lista vazia\nlista = []\nlista.append(3)\nlista.append(2)",
      "execution_count": 67,
      "outputs": []
    },
    {
      "metadata": {
        "trusted": true,
        "_uuid": "a30b72a64115697e892c5f83b252eab23626c764"
      },
      "cell_type": "code",
      "source": "lista_quadrado = [] \nlista",
      "execution_count": 45,
      "outputs": [
        {
          "output_type": "execute_result",
          "execution_count": 45,
          "data": {
            "text/plain": "[3, 2]"
          },
          "metadata": {}
        }
      ]
    },
    {
      "metadata": {
        "trusted": true,
        "_uuid": "aa2bbb04005579282c699f990683e27bc1381bab"
      },
      "cell_type": "code",
      "source": "#For simpes, elevando ao quadrado\nfor i in lista:\n    lista_quadrado.append(i ** 2)\nprint(lista_quadrado)",
      "execution_count": 66,
      "outputs": [
        {
          "output_type": "stream",
          "text": "[9, 4, 9, 4]\n",
          "name": "stdout"
        }
      ]
    },
    {
      "metadata": {
        "trusted": true,
        "_uuid": "b04fc174b3bc910b395842aa48c6f60526847368"
      },
      "cell_type": "code",
      "source": "#Forma contraida de utilizar o FOR\n[numero**2 for numero in lista]",
      "execution_count": 49,
      "outputs": [
        {
          "output_type": "execute_result",
          "execution_count": 49,
          "data": {
            "text/plain": "[9, 4]"
          },
          "metadata": {}
        }
      ]
    },
    {
      "metadata": {
        "trusted": true,
        "_uuid": "b6fa80e88a43c55b79da240b8d7b3bc13cfe8ba6"
      },
      "cell_type": "code",
      "source": "#Função básica \ndef eleva_quadrado(lista):\n    return[numero**2 for numero in lista]\neleva_quadrado([3,4,5])",
      "execution_count": 65,
      "outputs": [
        {
          "output_type": "execute_result",
          "execution_count": 65,
          "data": {
            "text/plain": "[9, 16, 25]"
          },
          "metadata": {}
        }
      ]
    },
    {
      "metadata": {
        "trusted": true,
        "_uuid": "61f937cefe1ba9b03c22351486edd4ab07e1cbbc"
      },
      "cell_type": "code",
      "source": "#Condicionais if e else com for \nlista_impar = [] \nlista_par = [] \nfor i in range(8):\n    if i % 2:\n        lista_impar.append(i)\n    else:\n        lista_par.append(i)\nprint(\"Lista impar >>>>>>>\", lista_impar)\nprint(\"Lista par >>>>>>>\", lista_par)",
      "execution_count": 69,
      "outputs": [
        {
          "output_type": "stream",
          "text": "Lista impar >>>>>>> [1, 3, 5, 7]\nLista par >>>>>>> [0, 2, 4, 6]\n",
          "name": "stdout"
        }
      ]
    },
    {
      "metadata": {
        "_uuid": "976e7df3bf3022271b494e90da6a7adfc272a697"
      },
      "cell_type": "markdown",
      "source": "## Ex:\n### Criar uma função que receba uma lista de números e retorna a soma dos números não negativos\n\n[1, -4, 7, 12] == >> 1 + 7 +12 = 20 "
    },
    {
      "metadata": {
        "trusted": true,
        "_uuid": "0551c43201f2932a9c79b69db3926c4ec4d75722"
      },
      "cell_type": "code",
      "source": "#Criando ums list comp\ndef retorna_positivo(lista):\n        return sum([numero for numero in lista if numero >=0])",
      "execution_count": 78,
      "outputs": []
    },
    {
      "metadata": {
        "trusted": true,
        "_uuid": "ac85db43abbe38155c11203902e6982f40c70831"
      },
      "cell_type": "code",
      "source": "retorna_positivo([-5,1,7,12])",
      "execution_count": 81,
      "outputs": [
        {
          "output_type": "execute_result",
          "execution_count": 81,
          "data": {
            "text/plain": "20"
          },
          "metadata": {}
        }
      ]
    },
    {
      "metadata": {
        "trusted": true,
        "_uuid": "e8fd858ac5cba132b0382c7ba58f3fabbfcc00db"
      },
      "cell_type": "code",
      "source": "#Criando ums list comp\ndef retorna_positivo(lista):\n        return sum([x for x in lista if x <=0])\nretorna_positivo([-5,-1,7,-512])",
      "execution_count": 87,
      "outputs": [
        {
          "output_type": "execute_result",
          "execution_count": 87,
          "data": {
            "text/plain": "-518"
          },
          "metadata": {}
        }
      ]
    },
    {
      "metadata": {
        "trusted": true,
        "_uuid": "c6b42ad11c97329d39cb1ea06abcf24ede0fa868"
      },
      "cell_type": "code",
      "source": "#Manipulando Dicionário, chave valores \ndados = {'Nome':'Luiz', 'Idade': '21' , 'EST': 'Sol'}\n\ndf1 = pd.DataFrame({'key': ['b','b','a','c','a','a','b'],\n                   'data2': range(7)})\ndados\n",
      "execution_count": 91,
      "outputs": [
        {
          "output_type": "execute_result",
          "execution_count": 91,
          "data": {
            "text/plain": "{'Nome': 'Luiz', 'Idade': '21', 'EST': 'Sol'}"
          },
          "metadata": {}
        }
      ]
    },
    {
      "metadata": {
        "trusted": true,
        "_uuid": "f4f0366d341a9e153bc97d86d9872748053f3565"
      },
      "cell_type": "code",
      "source": "dados['Nome']",
      "execution_count": 95,
      "outputs": [
        {
          "output_type": "execute_result",
          "execution_count": 95,
          "data": {
            "text/plain": "'Luiz'"
          },
          "metadata": {}
        }
      ]
    },
    {
      "metadata": {
        "trusted": true,
        "_uuid": "035cc041147e2a0324f18fdf259bc27ec9c3293b"
      },
      "cell_type": "code",
      "source": "dados['Gen']='M'",
      "execution_count": 96,
      "outputs": []
    },
    {
      "metadata": {
        "trusted": true,
        "_uuid": "fe0094953d3d712e266d4f9b79cc2f840bf8223c"
      },
      "cell_type": "code",
      "source": "dados",
      "execution_count": 97,
      "outputs": [
        {
          "output_type": "execute_result",
          "execution_count": 97,
          "data": {
            "text/plain": "{'Nome': 'Luiz', 'Idade': '21', 'EST': 'Sol', 'Gen': 'M'}"
          },
          "metadata": {}
        }
      ]
    },
    {
      "metadata": {
        "trusted": true,
        "_uuid": "647b4c8bd4a0484197fed7a950bfc52be6041799"
      },
      "cell_type": "code",
      "source": "dados.update({'Idade':20})\ndados",
      "execution_count": 105,
      "outputs": [
        {
          "output_type": "execute_result",
          "execution_count": 105,
          "data": {
            "text/plain": "{'Nome': 'Luiz', 'Idade': 20, 'EST': 'Sol', 'Gen': 'M'}"
          },
          "metadata": {}
        }
      ]
    },
    {
      "metadata": {
        "trusted": true,
        "_uuid": "45b5dbde0b61caff28ff45b3d8bd74b589376570"
      },
      "cell_type": "code",
      "source": "import copy \n\nlista = {'A':'1','B':'3', 'C':'4'}\n\n#nome_lista = ['Luiz' , 'Zé' , 'João Melão', 'Eduardo' , 'Maria Jose' , 'Vanessa']\n\n#dados =({'Coluna 1': np.random.random_sample(50) , \n#                     'Coluna 2': np.random.randint(50),\n#                     'Coluna 3': np.random.randn(50),\n#                     'Coluna 4': np.random.rand(50),\n#                     'Escolhido': np.random.choice(nome_lista,50)})\n\n\n",
      "execution_count": 110,
      "outputs": []
    },
    {
      "metadata": {
        "trusted": true,
        "_uuid": "2db9946d048a3bb0b238e48f5609ae438663a95e"
      },
      "cell_type": "code",
      "source": "lista",
      "execution_count": 111,
      "outputs": [
        {
          "output_type": "execute_result",
          "execution_count": 111,
          "data": {
            "text/plain": "{'A': '1', 'B': '3', 'C': '4'}"
          },
          "metadata": {}
        }
      ]
    },
    {
      "metadata": {
        "trusted": true,
        "_uuid": "5d5f9797c8a2af83d71fbb619b8c83f9a26c0738"
      },
      "cell_type": "code",
      "source": "lista1 = lista",
      "execution_count": 112,
      "outputs": []
    },
    {
      "metadata": {
        "trusted": true,
        "_uuid": "9cc49c208894f7eabfa08c05030a59eaf3cdeb21"
      },
      "cell_type": "code",
      "source": "lista1",
      "execution_count": 113,
      "outputs": [
        {
          "output_type": "execute_result",
          "execution_count": 113,
          "data": {
            "text/plain": "{'A': '1', 'B': '3', 'C': '4'}"
          },
          "metadata": {}
        }
      ]
    },
    {
      "metadata": {
        "trusted": true,
        "_uuid": "2edbfa3dc4ccef03eacb35c93cca25d0fa8dcf6d"
      },
      "cell_type": "code",
      "source": "#Alterando a lista  e neste caso a lista 1 terá seu valor modificado tbm\nlista.update({'A':3})\nlista1",
      "execution_count": 117,
      "outputs": [
        {
          "output_type": "execute_result",
          "execution_count": 117,
          "data": {
            "text/plain": "{'A': 3, 'B': '3', 'C': '4'}"
          },
          "metadata": {}
        }
      ]
    },
    {
      "metadata": {
        "trusted": true,
        "_uuid": "cacfcb0a08f7164e4da532ee4c8f5fdec3b6aa43"
      },
      "cell_type": "code",
      "source": "#Utilizando a bibilioteca copy o dicionário copiado quando alterado, não modifica a fonte principal\n#https://docs.python.org/3/library/copy.html\nlista2 = copy.copy(lista)",
      "execution_count": 121,
      "outputs": []
    },
    {
      "metadata": {
        "trusted": true,
        "_uuid": "6d9ad9da903631005f43c916d046d200c5ecad1c"
      },
      "cell_type": "code",
      "source": "lista2.update({'B':4})",
      "execution_count": 122,
      "outputs": []
    },
    {
      "metadata": {
        "trusted": true,
        "_uuid": "fc4e10092a0494edc7bf83a1b21eb292dc78d109"
      },
      "cell_type": "code",
      "source": "lista",
      "execution_count": 123,
      "outputs": [
        {
          "output_type": "execute_result",
          "execution_count": 123,
          "data": {
            "text/plain": "{'A': 3, 'B': '3', 'C': '4'}"
          },
          "metadata": {}
        }
      ]
    },
    {
      "metadata": {
        "trusted": true,
        "_uuid": "9466a473ee4e717ef55f67e2d6d5369bc7ce667c"
      },
      "cell_type": "code",
      "source": "lista5 = ['2','4','6',['4','6']] ",
      "execution_count": 128,
      "outputs": []
    },
    {
      "metadata": {
        "trusted": true,
        "_uuid": "590bedf9d276824243de4fd1980b97213edc3095"
      },
      "cell_type": "code",
      "source": "lista5",
      "execution_count": 129,
      "outputs": [
        {
          "output_type": "execute_result",
          "execution_count": 129,
          "data": {
            "text/plain": "['2', '4', '6', ['4', '6']]"
          },
          "metadata": {}
        }
      ]
    },
    {
      "metadata": {
        "trusted": true,
        "_uuid": "a4ae832e2af361116ee0a152012382f0df8dd60b"
      },
      "cell_type": "code",
      "source": "",
      "execution_count": null,
      "outputs": []
    }
  ],
  "metadata": {
    "kernelspec": {
      "display_name": "Python 3",
      "language": "python",
      "name": "python3"
    },
    "language_info": {
      "name": "python",
      "version": "3.6.6",
      "mimetype": "text/x-python",
      "codemirror_mode": {
        "name": "ipython",
        "version": 3
      },
      "pygments_lexer": "ipython3",
      "nbconvert_exporter": "python",
      "file_extension": ".py"
    }
  },
  "nbformat": 4,
  "nbformat_minor": 1
}