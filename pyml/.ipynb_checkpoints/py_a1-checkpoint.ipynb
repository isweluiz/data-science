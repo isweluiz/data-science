{
 "cells": [
  {
   "cell_type": "markdown",
   "metadata": {},
   "source": [
    "### Estudo - 01\n",
    "### https://www.kaggle.com/luizep "
   ]
  },
  {
   "cell_type": "code",
   "execution_count": 4,
   "metadata": {
    "_uuid": "d750a885836fbe2b21dfd78f6df731d17acb71a3"
   },
   "outputs": [],
   "source": [
    "import pandas as pd\n",
    "import numpy as np"
   ]
  },
  {
   "cell_type": "code",
   "execution_count": 5,
   "metadata": {
    "_uuid": "c9bf53fc48a0ac6c433aab2029522306c928f8dc"
   },
   "outputs": [],
   "source": [
    "name = 'Luiz Eduardo'"
   ]
  },
  {
   "cell_type": "code",
   "execution_count": 6,
   "metadata": {
    "_uuid": "c8c7d1f21bac2f0a7edbffad03de78c08a543d2b"
   },
   "outputs": [
    {
     "data": {
      "text/plain": [
       "'luiz eduardo'"
      ]
     },
     "execution_count": 6,
     "metadata": {},
     "output_type": "execute_result"
    }
   ],
   "source": [
    "name.lower()"
   ]
  },
  {
   "cell_type": "code",
   "execution_count": 7,
   "metadata": {
    "_uuid": "d75ab72816e1c1eae8450da731503ed82190f79e",
    "scrolled": true
   },
   "outputs": [
    {
     "data": {
      "text/plain": [
       "['Luiz', 'Eduardo']"
      ]
     },
     "execution_count": 7,
     "metadata": {},
     "output_type": "execute_result"
    }
   ],
   "source": [
    "name.split()"
   ]
  },
  {
   "cell_type": "code",
   "execution_count": 8,
   "metadata": {
    "_uuid": "f96ede9dfc26b397c8727b2a986c4df79c4f14a2"
   },
   "outputs": [],
   "source": [
    "ex = 'GCATATAC' "
   ]
  },
  {
   "cell_type": "code",
   "execution_count": 10,
   "metadata": {
    "_uuid": "99cdd71a85feee1f4ee6d75b5bee53ce6786d45d"
   },
   "outputs": [
    {
     "data": {
      "text/plain": [
       "'GCAUAUAC'"
      ]
     },
     "execution_count": 10,
     "metadata": {},
     "output_type": "execute_result"
    }
   ],
   "source": [
    "ex.replace('T','U')"
   ]
  },
  {
   "cell_type": "code",
   "execution_count": 67,
   "metadata": {
    "_uuid": "551474a049fc31d4f27fa3297e23e1b55b6f7920"
   },
   "outputs": [],
   "source": [
    "#Escrevendo em uma lista vazia\n",
    "lista = []\n",
    "lista.append(3)\n",
    "lista.append(2)"
   ]
  },
  {
   "cell_type": "code",
   "execution_count": 45,
   "metadata": {
    "_uuid": "a30b72a64115697e892c5f83b252eab23626c764"
   },
   "outputs": [
    {
     "data": {
      "text/plain": [
       "[3, 2]"
      ]
     },
     "execution_count": 45,
     "metadata": {},
     "output_type": "execute_result"
    }
   ],
   "source": [
    "lista_quadrado = [] \n",
    "lista"
   ]
  },
  {
   "cell_type": "code",
   "execution_count": 66,
   "metadata": {
    "_uuid": "aa2bbb04005579282c699f990683e27bc1381bab"
   },
   "outputs": [
    {
     "name": "stdout",
     "output_type": "stream",
     "text": [
      "[9, 4, 9, 4]\n"
     ]
    }
   ],
   "source": [
    "#For simpes, elevando ao quadrado\n",
    "for i in lista:\n",
    "    lista_quadrado.append(i ** 2)\n",
    "print(lista_quadrado)"
   ]
  },
  {
   "cell_type": "code",
   "execution_count": 49,
   "metadata": {
    "_uuid": "b04fc174b3bc910b395842aa48c6f60526847368"
   },
   "outputs": [
    {
     "data": {
      "text/plain": [
       "[9, 4]"
      ]
     },
     "execution_count": 49,
     "metadata": {},
     "output_type": "execute_result"
    }
   ],
   "source": [
    "#Forma contraida de utilizar o FOR\n",
    "[numero**2 for numero in lista]"
   ]
  },
  {
   "cell_type": "code",
   "execution_count": 65,
   "metadata": {
    "_uuid": "b6fa80e88a43c55b79da240b8d7b3bc13cfe8ba6"
   },
   "outputs": [
    {
     "data": {
      "text/plain": [
       "[9, 16, 25]"
      ]
     },
     "execution_count": 65,
     "metadata": {},
     "output_type": "execute_result"
    }
   ],
   "source": [
    "#Função básica \n",
    "def eleva_quadrado(lista):\n",
    "    return[numero**2 for numero in lista]\n",
    "eleva_quadrado([3,4,5])"
   ]
  },
  {
   "cell_type": "code",
   "execution_count": 69,
   "metadata": {
    "_uuid": "61f937cefe1ba9b03c22351486edd4ab07e1cbbc"
   },
   "outputs": [
    {
     "name": "stdout",
     "output_type": "stream",
     "text": [
      "Lista impar >>>>>>> [1, 3, 5, 7]\n",
      "Lista par >>>>>>> [0, 2, 4, 6]\n"
     ]
    }
   ],
   "source": [
    "#Condicionais if e else com for \n",
    "lista_impar = [] \n",
    "lista_par = [] \n",
    "for i in range(8):\n",
    "    if i % 2:\n",
    "        lista_impar.append(i)\n",
    "    else:\n",
    "        lista_par.append(i)\n",
    "print(\"Lista impar >>>>>>>\", lista_impar)\n",
    "print(\"Lista par >>>>>>>\", lista_par)"
   ]
  },
  {
   "cell_type": "markdown",
   "metadata": {
    "_uuid": "976e7df3bf3022271b494e90da6a7adfc272a697"
   },
   "source": [
    "## Ex:\n",
    "### Criar uma função que receba uma lista de números e retorna a soma dos números não negativos\n",
    "\n",
    "[1, -4, 7, 12] == >> 1 + 7 +12 = 20 "
   ]
  },
  {
   "cell_type": "code",
   "execution_count": 78,
   "metadata": {
    "_uuid": "0551c43201f2932a9c79b69db3926c4ec4d75722"
   },
   "outputs": [],
   "source": [
    "#Criando ums list comp\n",
    "def retorna_positivo(lista):\n",
    "        return sum([numero for numero in lista if numero >=0])"
   ]
  },
  {
   "cell_type": "code",
   "execution_count": 81,
   "metadata": {
    "_uuid": "ac85db43abbe38155c11203902e6982f40c70831"
   },
   "outputs": [
    {
     "data": {
      "text/plain": [
       "20"
      ]
     },
     "execution_count": 81,
     "metadata": {},
     "output_type": "execute_result"
    }
   ],
   "source": [
    "retorna_positivo([-5,1,7,12])"
   ]
  },
  {
   "cell_type": "code",
   "execution_count": 87,
   "metadata": {
    "_uuid": "e8fd858ac5cba132b0382c7ba58f3fabbfcc00db"
   },
   "outputs": [
    {
     "data": {
      "text/plain": [
       "-518"
      ]
     },
     "execution_count": 87,
     "metadata": {},
     "output_type": "execute_result"
    }
   ],
   "source": [
    "#Criando ums list comp\n",
    "def retorna_positivo(lista):\n",
    "        return sum([x for x in lista if x <=0])\n",
    "retorna_positivo([-5,-1,7,-512])"
   ]
  },
  {
   "cell_type": "code",
   "execution_count": 91,
   "metadata": {
    "_uuid": "c6b42ad11c97329d39cb1ea06abcf24ede0fa868"
   },
   "outputs": [
    {
     "data": {
      "text/plain": [
       "{'Nome': 'Luiz', 'Idade': '21', 'EST': 'Sol'}"
      ]
     },
     "execution_count": 91,
     "metadata": {},
     "output_type": "execute_result"
    }
   ],
   "source": [
    "#Manipulando Dicionário, chave valores \n",
    "dados = {'Nome':'Luiz', 'Idade': '21' , 'EST': 'Sol'}\n",
    "\n",
    "df1 = pd.DataFrame({'key': ['b','b','a','c','a','a','b'],\n",
    "                   'data2': range(7)})\n",
    "dados\n"
   ]
  },
  {
   "cell_type": "code",
   "execution_count": 95,
   "metadata": {
    "_uuid": "f4f0366d341a9e153bc97d86d9872748053f3565"
   },
   "outputs": [
    {
     "data": {
      "text/plain": [
       "'Luiz'"
      ]
     },
     "execution_count": 95,
     "metadata": {},
     "output_type": "execute_result"
    }
   ],
   "source": [
    "dados['Nome']"
   ]
  },
  {
   "cell_type": "code",
   "execution_count": 96,
   "metadata": {
    "_uuid": "035cc041147e2a0324f18fdf259bc27ec9c3293b"
   },
   "outputs": [],
   "source": [
    "dados['Gen']='M'"
   ]
  },
  {
   "cell_type": "code",
   "execution_count": 97,
   "metadata": {
    "_uuid": "fe0094953d3d712e266d4f9b79cc2f840bf8223c"
   },
   "outputs": [
    {
     "data": {
      "text/plain": [
       "{'Nome': 'Luiz', 'Idade': '21', 'EST': 'Sol', 'Gen': 'M'}"
      ]
     },
     "execution_count": 97,
     "metadata": {},
     "output_type": "execute_result"
    }
   ],
   "source": [
    "dados"
   ]
  },
  {
   "cell_type": "code",
   "execution_count": 105,
   "metadata": {
    "_uuid": "647b4c8bd4a0484197fed7a950bfc52be6041799"
   },
   "outputs": [
    {
     "data": {
      "text/plain": [
       "{'Nome': 'Luiz', 'Idade': 20, 'EST': 'Sol', 'Gen': 'M'}"
      ]
     },
     "execution_count": 105,
     "metadata": {},
     "output_type": "execute_result"
    }
   ],
   "source": [
    "dados.update({'Idade':20})\n",
    "dados"
   ]
  },
  {
   "cell_type": "code",
   "execution_count": 110,
   "metadata": {
    "_uuid": "45b5dbde0b61caff28ff45b3d8bd74b589376570"
   },
   "outputs": [],
   "source": [
    "import copy \n",
    "\n",
    "lista = {'A':'1','B':'3', 'C':'4'}\n",
    "\n",
    "#nome_lista = ['Luiz' , 'Zé' , 'João Melão', 'Eduardo' , 'Maria Jose' , 'Vanessa']\n",
    "\n",
    "#dados =({'Coluna 1': np.random.random_sample(50) , \n",
    "#                     'Coluna 2': np.random.randint(50),\n",
    "#                     'Coluna 3': np.random.randn(50),\n",
    "#                     'Coluna 4': np.random.rand(50),\n",
    "#                     'Escolhido': np.random.choice(nome_lista,50)})"
   ]
  },
  {
   "cell_type": "code",
   "execution_count": 111,
   "metadata": {
    "_uuid": "2db9946d048a3bb0b238e48f5609ae438663a95e"
   },
   "outputs": [
    {
     "data": {
      "text/plain": [
       "{'A': '1', 'B': '3', 'C': '4'}"
      ]
     },
     "execution_count": 111,
     "metadata": {},
     "output_type": "execute_result"
    }
   ],
   "source": [
    "lista"
   ]
  },
  {
   "cell_type": "code",
   "execution_count": 112,
   "metadata": {
    "_uuid": "5d5f9797c8a2af83d71fbb619b8c83f9a26c0738"
   },
   "outputs": [],
   "source": [
    "lista1 = lista"
   ]
  },
  {
   "cell_type": "code",
   "execution_count": 113,
   "metadata": {
    "_uuid": "9cc49c208894f7eabfa08c05030a59eaf3cdeb21"
   },
   "outputs": [
    {
     "data": {
      "text/plain": [
       "{'A': '1', 'B': '3', 'C': '4'}"
      ]
     },
     "execution_count": 113,
     "metadata": {},
     "output_type": "execute_result"
    }
   ],
   "source": [
    "lista1"
   ]
  },
  {
   "cell_type": "code",
   "execution_count": 117,
   "metadata": {
    "_uuid": "2edbfa3dc4ccef03eacb35c93cca25d0fa8dcf6d"
   },
   "outputs": [
    {
     "data": {
      "text/plain": [
       "{'A': 3, 'B': '3', 'C': '4'}"
      ]
     },
     "execution_count": 117,
     "metadata": {},
     "output_type": "execute_result"
    }
   ],
   "source": [
    "#Alterando a lista  e neste caso a lista 1 terá seu valor modificado tbm\n",
    "lista.update({'A':3})\n",
    "lista1"
   ]
  },
  {
   "cell_type": "code",
   "execution_count": 121,
   "metadata": {
    "_uuid": "cacfcb0a08f7164e4da532ee4c8f5fdec3b6aa43"
   },
   "outputs": [],
   "source": [
    "#Utilizando a bibilioteca copy o dicionário copiado quando alterado, não modifica a fonte principal\n",
    "#https://docs.python.org/3/library/copy.html\n",
    "lista2 = copy.copy(lista)"
   ]
  },
  {
   "cell_type": "code",
   "execution_count": 122,
   "metadata": {
    "_uuid": "6d9ad9da903631005f43c916d046d200c5ecad1c"
   },
   "outputs": [],
   "source": [
    "lista2.update({'B':4})"
   ]
  },
  {
   "cell_type": "code",
   "execution_count": 123,
   "metadata": {
    "_uuid": "fc4e10092a0494edc7bf83a1b21eb292dc78d109"
   },
   "outputs": [
    {
     "data": {
      "text/plain": [
       "{'A': 3, 'B': '3', 'C': '4'}"
      ]
     },
     "execution_count": 123,
     "metadata": {},
     "output_type": "execute_result"
    }
   ],
   "source": [
    "lista"
   ]
  },
  {
   "cell_type": "code",
   "execution_count": 128,
   "metadata": {
    "_uuid": "9466a473ee4e717ef55f67e2d6d5369bc7ce667c"
   },
   "outputs": [],
   "source": [
    "lista5 = ['2','4','6',['4','6']] "
   ]
  },
  {
   "cell_type": "code",
   "execution_count": 129,
   "metadata": {
    "_uuid": "590bedf9d276824243de4fd1980b97213edc3095"
   },
   "outputs": [
    {
     "data": {
      "text/plain": [
       "['2', '4', '6', ['4', '6']]"
      ]
     },
     "execution_count": 129,
     "metadata": {},
     "output_type": "execute_result"
    }
   ],
   "source": [
    "lista5"
   ]
  }
 ],
 "metadata": {
  "kernelspec": {
   "display_name": "Python 3",
   "language": "python",
   "name": "python3"
  },
  "language_info": {
   "codemirror_mode": {
    "name": "ipython",
    "version": 3
   },
   "file_extension": ".py",
   "mimetype": "text/x-python",
   "name": "python",
   "nbconvert_exporter": "python",
   "pygments_lexer": "ipython3",
   "version": "3.6.4"
  }
 },
 "nbformat": 4,
 "nbformat_minor": 1
}
